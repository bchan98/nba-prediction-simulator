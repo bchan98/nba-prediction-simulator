{
  "nbformat": 4,
  "nbformat_minor": 0,
  "metadata": {
    "colab": {
      "provenance": []
    },
    "kernelspec": {
      "name": "python3",
      "display_name": "Python 3"
    },
    "language_info": {
      "name": "python"
    },
    "widgets": {
      "application/vnd.jupyter.widget-state+json": {
        "1196a58c1cdb476187e40348e64d3162": {
          "model_module": "@jupyter-widgets/controls",
          "model_name": "DropdownModel",
          "model_module_version": "1.5.0",
          "state": {
            "_dom_classes": [],
            "_model_module": "@jupyter-widgets/controls",
            "_model_module_version": "1.5.0",
            "_model_name": "DropdownModel",
            "_options_labels": [
              "Atlanta Hawks",
              "Boston Celtics",
              "New Orleans Pelicans",
              "Chicago Bulls",
              "Dallas Mavericks",
              "Denver Nuggets",
              "Houston Rockets",
              "Los Angeles Clippers",
              "Los Angeles Lakers",
              "Miami Heat",
              "Milwaukee Bucks",
              "Minnesota Timberwolves",
              "Brooklyn Nets",
              "New York Knicks",
              "Orlando Magic",
              "Indiana Pacers",
              "Philadelphia 76ers",
              "Phoenix Suns",
              "Portland Trail Blazers",
              "Sacramento Kings",
              "San Antonio Spurs",
              "Oklahoma City Thunder",
              "Toronto Raptors",
              "Utah Jazz",
              "Memphis Grizzlies",
              "Washington Wizards",
              "Detroit Pistons",
              "Charlotte Hornets",
              "Cleveland Cavaliers",
              "Golden State Warriors"
            ],
            "_view_count": null,
            "_view_module": "@jupyter-widgets/controls",
            "_view_module_version": "1.5.0",
            "_view_name": "DropdownView",
            "description": "Home team: ",
            "description_tooltip": null,
            "disabled": false,
            "index": 0,
            "layout": "IPY_MODEL_ea22f7cdaf064e1c9e9976f968e85cd5",
            "style": "IPY_MODEL_5ef595ac30c843c4bec55a957ad1e4f9"
          }
        },
        "ea22f7cdaf064e1c9e9976f968e85cd5": {
          "model_module": "@jupyter-widgets/base",
          "model_name": "LayoutModel",
          "model_module_version": "1.2.0",
          "state": {
            "_model_module": "@jupyter-widgets/base",
            "_model_module_version": "1.2.0",
            "_model_name": "LayoutModel",
            "_view_count": null,
            "_view_module": "@jupyter-widgets/base",
            "_view_module_version": "1.2.0",
            "_view_name": "LayoutView",
            "align_content": null,
            "align_items": null,
            "align_self": null,
            "border": null,
            "bottom": null,
            "display": null,
            "flex": null,
            "flex_flow": null,
            "grid_area": null,
            "grid_auto_columns": null,
            "grid_auto_flow": null,
            "grid_auto_rows": null,
            "grid_column": null,
            "grid_gap": null,
            "grid_row": null,
            "grid_template_areas": null,
            "grid_template_columns": null,
            "grid_template_rows": null,
            "height": null,
            "justify_content": null,
            "justify_items": null,
            "left": null,
            "margin": null,
            "max_height": null,
            "max_width": null,
            "min_height": null,
            "min_width": null,
            "object_fit": null,
            "object_position": null,
            "order": null,
            "overflow": null,
            "overflow_x": null,
            "overflow_y": null,
            "padding": null,
            "right": null,
            "top": null,
            "visibility": null,
            "width": null
          }
        },
        "5ef595ac30c843c4bec55a957ad1e4f9": {
          "model_module": "@jupyter-widgets/controls",
          "model_name": "DescriptionStyleModel",
          "model_module_version": "1.5.0",
          "state": {
            "_model_module": "@jupyter-widgets/controls",
            "_model_module_version": "1.5.0",
            "_model_name": "DescriptionStyleModel",
            "_view_count": null,
            "_view_module": "@jupyter-widgets/base",
            "_view_module_version": "1.2.0",
            "_view_name": "StyleView",
            "description_width": ""
          }
        },
        "ca5f170f20b847c99708f335130092ce": {
          "model_module": "@jupyter-widgets/controls",
          "model_name": "DropdownModel",
          "model_module_version": "1.5.0",
          "state": {
            "_dom_classes": [],
            "_model_module": "@jupyter-widgets/controls",
            "_model_module_version": "1.5.0",
            "_model_name": "DropdownModel",
            "_options_labels": [
              "Atlanta Hawks",
              "Boston Celtics",
              "New Orleans Pelicans",
              "Chicago Bulls",
              "Dallas Mavericks",
              "Denver Nuggets",
              "Houston Rockets",
              "Los Angeles Clippers",
              "Los Angeles Lakers",
              "Miami Heat",
              "Milwaukee Bucks",
              "Minnesota Timberwolves",
              "Brooklyn Nets",
              "New York Knicks",
              "Orlando Magic",
              "Indiana Pacers",
              "Philadelphia 76ers",
              "Phoenix Suns",
              "Portland Trail Blazers",
              "Sacramento Kings",
              "San Antonio Spurs",
              "Oklahoma City Thunder",
              "Toronto Raptors",
              "Utah Jazz",
              "Memphis Grizzlies",
              "Washington Wizards",
              "Detroit Pistons",
              "Charlotte Hornets",
              "Cleveland Cavaliers",
              "Golden State Warriors"
            ],
            "_view_count": null,
            "_view_module": "@jupyter-widgets/controls",
            "_view_module_version": "1.5.0",
            "_view_name": "DropdownView",
            "description": "Away team: ",
            "description_tooltip": null,
            "disabled": false,
            "index": 0,
            "layout": "IPY_MODEL_d50315edeaec42bc8a5f6a21821deca7",
            "style": "IPY_MODEL_3a91fe5062d24b099d5ba2f1722b61ec"
          }
        },
        "d50315edeaec42bc8a5f6a21821deca7": {
          "model_module": "@jupyter-widgets/base",
          "model_name": "LayoutModel",
          "model_module_version": "1.2.0",
          "state": {
            "_model_module": "@jupyter-widgets/base",
            "_model_module_version": "1.2.0",
            "_model_name": "LayoutModel",
            "_view_count": null,
            "_view_module": "@jupyter-widgets/base",
            "_view_module_version": "1.2.0",
            "_view_name": "LayoutView",
            "align_content": null,
            "align_items": null,
            "align_self": null,
            "border": null,
            "bottom": null,
            "display": null,
            "flex": null,
            "flex_flow": null,
            "grid_area": null,
            "grid_auto_columns": null,
            "grid_auto_flow": null,
            "grid_auto_rows": null,
            "grid_column": null,
            "grid_gap": null,
            "grid_row": null,
            "grid_template_areas": null,
            "grid_template_columns": null,
            "grid_template_rows": null,
            "height": null,
            "justify_content": null,
            "justify_items": null,
            "left": null,
            "margin": null,
            "max_height": null,
            "max_width": null,
            "min_height": null,
            "min_width": null,
            "object_fit": null,
            "object_position": null,
            "order": null,
            "overflow": null,
            "overflow_x": null,
            "overflow_y": null,
            "padding": null,
            "right": null,
            "top": null,
            "visibility": null,
            "width": null
          }
        },
        "3a91fe5062d24b099d5ba2f1722b61ec": {
          "model_module": "@jupyter-widgets/controls",
          "model_name": "DescriptionStyleModel",
          "model_module_version": "1.5.0",
          "state": {
            "_model_module": "@jupyter-widgets/controls",
            "_model_module_version": "1.5.0",
            "_model_name": "DescriptionStyleModel",
            "_view_count": null,
            "_view_module": "@jupyter-widgets/base",
            "_view_module_version": "1.2.0",
            "_view_name": "StyleView",
            "description_width": ""
          }
        },
        "a600bf0f361b494192b1fd69f31c5193": {
          "model_module": "@jupyter-widgets/controls",
          "model_name": "ButtonModel",
          "model_module_version": "1.5.0",
          "state": {
            "_dom_classes": [],
            "_model_module": "@jupyter-widgets/controls",
            "_model_module_version": "1.5.0",
            "_model_name": "ButtonModel",
            "_view_count": null,
            "_view_module": "@jupyter-widgets/controls",
            "_view_module_version": "1.5.0",
            "_view_name": "ButtonView",
            "button_style": "",
            "description": "Predict the winner!",
            "disabled": false,
            "icon": "",
            "layout": "IPY_MODEL_e274d72786de4ea7b773d52de1451513",
            "style": "IPY_MODEL_e19eae2ccf194799b5f6bfc43c697c89",
            "tooltip": ""
          }
        },
        "e274d72786de4ea7b773d52de1451513": {
          "model_module": "@jupyter-widgets/base",
          "model_name": "LayoutModel",
          "model_module_version": "1.2.0",
          "state": {
            "_model_module": "@jupyter-widgets/base",
            "_model_module_version": "1.2.0",
            "_model_name": "LayoutModel",
            "_view_count": null,
            "_view_module": "@jupyter-widgets/base",
            "_view_module_version": "1.2.0",
            "_view_name": "LayoutView",
            "align_content": null,
            "align_items": null,
            "align_self": null,
            "border": null,
            "bottom": null,
            "display": null,
            "flex": null,
            "flex_flow": null,
            "grid_area": null,
            "grid_auto_columns": null,
            "grid_auto_flow": null,
            "grid_auto_rows": null,
            "grid_column": null,
            "grid_gap": null,
            "grid_row": null,
            "grid_template_areas": null,
            "grid_template_columns": null,
            "grid_template_rows": null,
            "height": null,
            "justify_content": null,
            "justify_items": null,
            "left": null,
            "margin": null,
            "max_height": null,
            "max_width": null,
            "min_height": null,
            "min_width": null,
            "object_fit": null,
            "object_position": null,
            "order": null,
            "overflow": null,
            "overflow_x": null,
            "overflow_y": null,
            "padding": null,
            "right": null,
            "top": null,
            "visibility": null,
            "width": null
          }
        },
        "e19eae2ccf194799b5f6bfc43c697c89": {
          "model_module": "@jupyter-widgets/controls",
          "model_name": "ButtonStyleModel",
          "model_module_version": "1.5.0",
          "state": {
            "_model_module": "@jupyter-widgets/controls",
            "_model_module_version": "1.5.0",
            "_model_name": "ButtonStyleModel",
            "_view_count": null,
            "_view_module": "@jupyter-widgets/base",
            "_view_module_version": "1.2.0",
            "_view_name": "StyleView",
            "button_color": null,
            "font_weight": ""
          }
        }
      }
    }
  },
  "cells": [
    {
      "cell_type": "markdown",
      "source": [
        "#**Main Code Section**"
      ],
      "metadata": {
        "id": "GRkzDfEKpjRI"
      }
    },
    {
      "cell_type": "markdown",
      "source": [
        "This project will evaluate the outcomes of a given NBA match between two teams. This will be done through the training of a machine learning model on historical game data. The model will evaluate the outcome by inputting current NBA team data, obtained through the official NBA Stats API."
      ],
      "metadata": {
        "id": "vDTk2Cw8q7Ta"
      }
    },
    {
      "cell_type": "markdown",
      "source": [
        "If you'd like to test out the model yourself, please go to runtime, press run all, and then scroll down to the interactive section at the bottom of the notebook."
      ],
      "metadata": {
        "id": "PURZYK_3xr0r"
      }
    },
    {
      "cell_type": "markdown",
      "source": [
        "First, we will install any neccessary libraries. If Colab prompts a restart, press yes."
      ],
      "metadata": {
        "id": "Z-W4imdmoSKH"
      }
    },
    {
      "cell_type": "code",
      "source": [
        "pip install nba_api"
      ],
      "metadata": {
        "id": "1xAA_Emm3TPl"
      },
      "execution_count": null,
      "outputs": []
    },
    {
      "cell_type": "code",
      "source": [
        "pip install ipywidgets"
      ],
      "metadata": {
        "id": "Nx8DvmapzdzS"
      },
      "execution_count": null,
      "outputs": []
    },
    {
      "cell_type": "markdown",
      "source": [
        "Then, import necessary libraries."
      ],
      "metadata": {
        "id": "1aXM1GDnhzJp"
      }
    },
    {
      "cell_type": "code",
      "source": [
        "import pandas as pd\n",
        "from sklearn.ensemble import RandomForestClassifier\n",
        "from sklearn.metrics import accuracy_score"
      ],
      "metadata": {
        "id": "Z3TuJssUd2_t"
      },
      "execution_count": null,
      "outputs": []
    },
    {
      "cell_type": "markdown",
      "source": [
        "We will import in the necessary .csv files from Github. These .csv files have been obtained from Kaggle, from Nathan Lauga. The numbers used to generate these .csv files have also been obtained from the official NBA Stats API. The link to the kaggle page is here: https://www.kaggle.com/datasets/nathanlauga/nba-games"
      ],
      "metadata": {
        "id": "fLKE3iNmhnsx"
      }
    },
    {
      "cell_type": "code",
      "execution_count": null,
      "metadata": {
        "id": "63gryHvyPC8G"
      },
      "outputs": [],
      "source": [
        "gameurl = 'https://raw.githubusercontent.com/bchan98/CapstoneProject/main/games.csv'\n",
        "gamefile = pd.read_csv(gameurl)"
      ]
    },
    {
      "cell_type": "markdown",
      "source": [
        "Now, we will start processing and cleaning of dataset. First, we will check that the data has been made into a pandas dataframe."
      ],
      "metadata": {
        "id": "R3sEb7xlh508"
      }
    },
    {
      "cell_type": "code",
      "source": [
        "gamefile.head()"
      ],
      "metadata": {
        "id": "IbJjEN-_CagQ",
        "colab": {
          "base_uri": "https://localhost:8080/",
          "height": 256
        },
        "outputId": "407192e0-d818-4030-b830-502ca6812b1a"
      },
      "execution_count": null,
      "outputs": [
        {
          "output_type": "execute_result",
          "data": {
            "text/plain": [
              "  GAME_DATE_EST   GAME_ID GAME_STATUS_TEXT  HOME_TEAM_ID  VISITOR_TEAM_ID  \\\n",
              "0    2022-12-22  22200477            Final    1610612740       1610612759   \n",
              "1    2022-12-22  22200478            Final    1610612762       1610612764   \n",
              "2    2022-12-21  22200466            Final    1610612739       1610612749   \n",
              "3    2022-12-21  22200467            Final    1610612755       1610612765   \n",
              "4    2022-12-21  22200468            Final    1610612737       1610612741   \n",
              "\n",
              "   SEASON  TEAM_ID_home  PTS_home  FG_PCT_home  FT_PCT_home  ...  AST_home  \\\n",
              "0    2022    1610612740     126.0        0.484        0.926  ...      25.0   \n",
              "1    2022    1610612762     120.0        0.488        0.952  ...      16.0   \n",
              "2    2022    1610612739     114.0        0.482        0.786  ...      22.0   \n",
              "3    2022    1610612755     113.0        0.441        0.909  ...      27.0   \n",
              "4    2022    1610612737     108.0        0.429        1.000  ...      22.0   \n",
              "\n",
              "   REB_home  TEAM_ID_away  PTS_away  FG_PCT_away  FT_PCT_away  FG3_PCT_away  \\\n",
              "0      46.0    1610612759     117.0        0.478        0.815         0.321   \n",
              "1      40.0    1610612764     112.0        0.561        0.765         0.333   \n",
              "2      37.0    1610612749     106.0        0.470        0.682         0.433   \n",
              "3      49.0    1610612765      93.0        0.392        0.735         0.261   \n",
              "4      47.0    1610612741     110.0        0.500        0.773         0.292   \n",
              "\n",
              "   AST_away  REB_away  HOME_TEAM_WINS  \n",
              "0      23.0      44.0               1  \n",
              "1      20.0      37.0               1  \n",
              "2      20.0      46.0               1  \n",
              "3      15.0      46.0               1  \n",
              "4      20.0      47.0               0  \n",
              "\n",
              "[5 rows x 21 columns]"
            ],
            "text/html": [
              "\n",
              "  <div id=\"df-79e4c529-3b33-459f-8c77-6bbd6f5749e8\" class=\"colab-df-container\">\n",
              "    <div>\n",
              "<style scoped>\n",
              "    .dataframe tbody tr th:only-of-type {\n",
              "        vertical-align: middle;\n",
              "    }\n",
              "\n",
              "    .dataframe tbody tr th {\n",
              "        vertical-align: top;\n",
              "    }\n",
              "\n",
              "    .dataframe thead th {\n",
              "        text-align: right;\n",
              "    }\n",
              "</style>\n",
              "<table border=\"1\" class=\"dataframe\">\n",
              "  <thead>\n",
              "    <tr style=\"text-align: right;\">\n",
              "      <th></th>\n",
              "      <th>GAME_DATE_EST</th>\n",
              "      <th>GAME_ID</th>\n",
              "      <th>GAME_STATUS_TEXT</th>\n",
              "      <th>HOME_TEAM_ID</th>\n",
              "      <th>VISITOR_TEAM_ID</th>\n",
              "      <th>SEASON</th>\n",
              "      <th>TEAM_ID_home</th>\n",
              "      <th>PTS_home</th>\n",
              "      <th>FG_PCT_home</th>\n",
              "      <th>FT_PCT_home</th>\n",
              "      <th>...</th>\n",
              "      <th>AST_home</th>\n",
              "      <th>REB_home</th>\n",
              "      <th>TEAM_ID_away</th>\n",
              "      <th>PTS_away</th>\n",
              "      <th>FG_PCT_away</th>\n",
              "      <th>FT_PCT_away</th>\n",
              "      <th>FG3_PCT_away</th>\n",
              "      <th>AST_away</th>\n",
              "      <th>REB_away</th>\n",
              "      <th>HOME_TEAM_WINS</th>\n",
              "    </tr>\n",
              "  </thead>\n",
              "  <tbody>\n",
              "    <tr>\n",
              "      <th>0</th>\n",
              "      <td>2022-12-22</td>\n",
              "      <td>22200477</td>\n",
              "      <td>Final</td>\n",
              "      <td>1610612740</td>\n",
              "      <td>1610612759</td>\n",
              "      <td>2022</td>\n",
              "      <td>1610612740</td>\n",
              "      <td>126.0</td>\n",
              "      <td>0.484</td>\n",
              "      <td>0.926</td>\n",
              "      <td>...</td>\n",
              "      <td>25.0</td>\n",
              "      <td>46.0</td>\n",
              "      <td>1610612759</td>\n",
              "      <td>117.0</td>\n",
              "      <td>0.478</td>\n",
              "      <td>0.815</td>\n",
              "      <td>0.321</td>\n",
              "      <td>23.0</td>\n",
              "      <td>44.0</td>\n",
              "      <td>1</td>\n",
              "    </tr>\n",
              "    <tr>\n",
              "      <th>1</th>\n",
              "      <td>2022-12-22</td>\n",
              "      <td>22200478</td>\n",
              "      <td>Final</td>\n",
              "      <td>1610612762</td>\n",
              "      <td>1610612764</td>\n",
              "      <td>2022</td>\n",
              "      <td>1610612762</td>\n",
              "      <td>120.0</td>\n",
              "      <td>0.488</td>\n",
              "      <td>0.952</td>\n",
              "      <td>...</td>\n",
              "      <td>16.0</td>\n",
              "      <td>40.0</td>\n",
              "      <td>1610612764</td>\n",
              "      <td>112.0</td>\n",
              "      <td>0.561</td>\n",
              "      <td>0.765</td>\n",
              "      <td>0.333</td>\n",
              "      <td>20.0</td>\n",
              "      <td>37.0</td>\n",
              "      <td>1</td>\n",
              "    </tr>\n",
              "    <tr>\n",
              "      <th>2</th>\n",
              "      <td>2022-12-21</td>\n",
              "      <td>22200466</td>\n",
              "      <td>Final</td>\n",
              "      <td>1610612739</td>\n",
              "      <td>1610612749</td>\n",
              "      <td>2022</td>\n",
              "      <td>1610612739</td>\n",
              "      <td>114.0</td>\n",
              "      <td>0.482</td>\n",
              "      <td>0.786</td>\n",
              "      <td>...</td>\n",
              "      <td>22.0</td>\n",
              "      <td>37.0</td>\n",
              "      <td>1610612749</td>\n",
              "      <td>106.0</td>\n",
              "      <td>0.470</td>\n",
              "      <td>0.682</td>\n",
              "      <td>0.433</td>\n",
              "      <td>20.0</td>\n",
              "      <td>46.0</td>\n",
              "      <td>1</td>\n",
              "    </tr>\n",
              "    <tr>\n",
              "      <th>3</th>\n",
              "      <td>2022-12-21</td>\n",
              "      <td>22200467</td>\n",
              "      <td>Final</td>\n",
              "      <td>1610612755</td>\n",
              "      <td>1610612765</td>\n",
              "      <td>2022</td>\n",
              "      <td>1610612755</td>\n",
              "      <td>113.0</td>\n",
              "      <td>0.441</td>\n",
              "      <td>0.909</td>\n",
              "      <td>...</td>\n",
              "      <td>27.0</td>\n",
              "      <td>49.0</td>\n",
              "      <td>1610612765</td>\n",
              "      <td>93.0</td>\n",
              "      <td>0.392</td>\n",
              "      <td>0.735</td>\n",
              "      <td>0.261</td>\n",
              "      <td>15.0</td>\n",
              "      <td>46.0</td>\n",
              "      <td>1</td>\n",
              "    </tr>\n",
              "    <tr>\n",
              "      <th>4</th>\n",
              "      <td>2022-12-21</td>\n",
              "      <td>22200468</td>\n",
              "      <td>Final</td>\n",
              "      <td>1610612737</td>\n",
              "      <td>1610612741</td>\n",
              "      <td>2022</td>\n",
              "      <td>1610612737</td>\n",
              "      <td>108.0</td>\n",
              "      <td>0.429</td>\n",
              "      <td>1.000</td>\n",
              "      <td>...</td>\n",
              "      <td>22.0</td>\n",
              "      <td>47.0</td>\n",
              "      <td>1610612741</td>\n",
              "      <td>110.0</td>\n",
              "      <td>0.500</td>\n",
              "      <td>0.773</td>\n",
              "      <td>0.292</td>\n",
              "      <td>20.0</td>\n",
              "      <td>47.0</td>\n",
              "      <td>0</td>\n",
              "    </tr>\n",
              "  </tbody>\n",
              "</table>\n",
              "<p>5 rows × 21 columns</p>\n",
              "</div>\n",
              "    <div class=\"colab-df-buttons\">\n",
              "\n",
              "  <div class=\"colab-df-container\">\n",
              "    <button class=\"colab-df-convert\" onclick=\"convertToInteractive('df-79e4c529-3b33-459f-8c77-6bbd6f5749e8')\"\n",
              "            title=\"Convert this dataframe to an interactive table.\"\n",
              "            style=\"display:none;\">\n",
              "\n",
              "  <svg xmlns=\"http://www.w3.org/2000/svg\" height=\"24px\" viewBox=\"0 -960 960 960\">\n",
              "    <path d=\"M120-120v-720h720v720H120Zm60-500h600v-160H180v160Zm220 220h160v-160H400v160Zm0 220h160v-160H400v160ZM180-400h160v-160H180v160Zm440 0h160v-160H620v160ZM180-180h160v-160H180v160Zm440 0h160v-160H620v160Z\"/>\n",
              "  </svg>\n",
              "    </button>\n",
              "\n",
              "  <style>\n",
              "    .colab-df-container {\n",
              "      display:flex;\n",
              "      gap: 12px;\n",
              "    }\n",
              "\n",
              "    .colab-df-convert {\n",
              "      background-color: #E8F0FE;\n",
              "      border: none;\n",
              "      border-radius: 50%;\n",
              "      cursor: pointer;\n",
              "      display: none;\n",
              "      fill: #1967D2;\n",
              "      height: 32px;\n",
              "      padding: 0 0 0 0;\n",
              "      width: 32px;\n",
              "    }\n",
              "\n",
              "    .colab-df-convert:hover {\n",
              "      background-color: #E2EBFA;\n",
              "      box-shadow: 0px 1px 2px rgba(60, 64, 67, 0.3), 0px 1px 3px 1px rgba(60, 64, 67, 0.15);\n",
              "      fill: #174EA6;\n",
              "    }\n",
              "\n",
              "    .colab-df-buttons div {\n",
              "      margin-bottom: 4px;\n",
              "    }\n",
              "\n",
              "    [theme=dark] .colab-df-convert {\n",
              "      background-color: #3B4455;\n",
              "      fill: #D2E3FC;\n",
              "    }\n",
              "\n",
              "    [theme=dark] .colab-df-convert:hover {\n",
              "      background-color: #434B5C;\n",
              "      box-shadow: 0px 1px 3px 1px rgba(0, 0, 0, 0.15);\n",
              "      filter: drop-shadow(0px 1px 2px rgba(0, 0, 0, 0.3));\n",
              "      fill: #FFFFFF;\n",
              "    }\n",
              "  </style>\n",
              "\n",
              "    <script>\n",
              "      const buttonEl =\n",
              "        document.querySelector('#df-79e4c529-3b33-459f-8c77-6bbd6f5749e8 button.colab-df-convert');\n",
              "      buttonEl.style.display =\n",
              "        google.colab.kernel.accessAllowed ? 'block' : 'none';\n",
              "\n",
              "      async function convertToInteractive(key) {\n",
              "        const element = document.querySelector('#df-79e4c529-3b33-459f-8c77-6bbd6f5749e8');\n",
              "        const dataTable =\n",
              "          await google.colab.kernel.invokeFunction('convertToInteractive',\n",
              "                                                    [key], {});\n",
              "        if (!dataTable) return;\n",
              "\n",
              "        const docLinkHtml = 'Like what you see? Visit the ' +\n",
              "          '<a target=\"_blank\" href=https://colab.research.google.com/notebooks/data_table.ipynb>data table notebook</a>'\n",
              "          + ' to learn more about interactive tables.';\n",
              "        element.innerHTML = '';\n",
              "        dataTable['output_type'] = 'display_data';\n",
              "        await google.colab.output.renderOutput(dataTable, element);\n",
              "        const docLink = document.createElement('div');\n",
              "        docLink.innerHTML = docLinkHtml;\n",
              "        element.appendChild(docLink);\n",
              "      }\n",
              "    </script>\n",
              "  </div>\n",
              "\n",
              "\n",
              "<div id=\"df-c476a260-602e-4995-a5d0-730238cb6ac7\">\n",
              "  <button class=\"colab-df-quickchart\" onclick=\"quickchart('df-c476a260-602e-4995-a5d0-730238cb6ac7')\"\n",
              "            title=\"Suggest charts\"\n",
              "            style=\"display:none;\">\n",
              "\n",
              "<svg xmlns=\"http://www.w3.org/2000/svg\" height=\"24px\"viewBox=\"0 0 24 24\"\n",
              "     width=\"24px\">\n",
              "    <g>\n",
              "        <path d=\"M19 3H5c-1.1 0-2 .9-2 2v14c0 1.1.9 2 2 2h14c1.1 0 2-.9 2-2V5c0-1.1-.9-2-2-2zM9 17H7v-7h2v7zm4 0h-2V7h2v10zm4 0h-2v-4h2v4z\"/>\n",
              "    </g>\n",
              "</svg>\n",
              "  </button>\n",
              "\n",
              "<style>\n",
              "  .colab-df-quickchart {\n",
              "      --bg-color: #E8F0FE;\n",
              "      --fill-color: #1967D2;\n",
              "      --hover-bg-color: #E2EBFA;\n",
              "      --hover-fill-color: #174EA6;\n",
              "      --disabled-fill-color: #AAA;\n",
              "      --disabled-bg-color: #DDD;\n",
              "  }\n",
              "\n",
              "  [theme=dark] .colab-df-quickchart {\n",
              "      --bg-color: #3B4455;\n",
              "      --fill-color: #D2E3FC;\n",
              "      --hover-bg-color: #434B5C;\n",
              "      --hover-fill-color: #FFFFFF;\n",
              "      --disabled-bg-color: #3B4455;\n",
              "      --disabled-fill-color: #666;\n",
              "  }\n",
              "\n",
              "  .colab-df-quickchart {\n",
              "    background-color: var(--bg-color);\n",
              "    border: none;\n",
              "    border-radius: 50%;\n",
              "    cursor: pointer;\n",
              "    display: none;\n",
              "    fill: var(--fill-color);\n",
              "    height: 32px;\n",
              "    padding: 0;\n",
              "    width: 32px;\n",
              "  }\n",
              "\n",
              "  .colab-df-quickchart:hover {\n",
              "    background-color: var(--hover-bg-color);\n",
              "    box-shadow: 0 1px 2px rgba(60, 64, 67, 0.3), 0 1px 3px 1px rgba(60, 64, 67, 0.15);\n",
              "    fill: var(--button-hover-fill-color);\n",
              "  }\n",
              "\n",
              "  .colab-df-quickchart-complete:disabled,\n",
              "  .colab-df-quickchart-complete:disabled:hover {\n",
              "    background-color: var(--disabled-bg-color);\n",
              "    fill: var(--disabled-fill-color);\n",
              "    box-shadow: none;\n",
              "  }\n",
              "\n",
              "  .colab-df-spinner {\n",
              "    border: 2px solid var(--fill-color);\n",
              "    border-color: transparent;\n",
              "    border-bottom-color: var(--fill-color);\n",
              "    animation:\n",
              "      spin 1s steps(1) infinite;\n",
              "  }\n",
              "\n",
              "  @keyframes spin {\n",
              "    0% {\n",
              "      border-color: transparent;\n",
              "      border-bottom-color: var(--fill-color);\n",
              "      border-left-color: var(--fill-color);\n",
              "    }\n",
              "    20% {\n",
              "      border-color: transparent;\n",
              "      border-left-color: var(--fill-color);\n",
              "      border-top-color: var(--fill-color);\n",
              "    }\n",
              "    30% {\n",
              "      border-color: transparent;\n",
              "      border-left-color: var(--fill-color);\n",
              "      border-top-color: var(--fill-color);\n",
              "      border-right-color: var(--fill-color);\n",
              "    }\n",
              "    40% {\n",
              "      border-color: transparent;\n",
              "      border-right-color: var(--fill-color);\n",
              "      border-top-color: var(--fill-color);\n",
              "    }\n",
              "    60% {\n",
              "      border-color: transparent;\n",
              "      border-right-color: var(--fill-color);\n",
              "    }\n",
              "    80% {\n",
              "      border-color: transparent;\n",
              "      border-right-color: var(--fill-color);\n",
              "      border-bottom-color: var(--fill-color);\n",
              "    }\n",
              "    90% {\n",
              "      border-color: transparent;\n",
              "      border-bottom-color: var(--fill-color);\n",
              "    }\n",
              "  }\n",
              "</style>\n",
              "\n",
              "  <script>\n",
              "    async function quickchart(key) {\n",
              "      const quickchartButtonEl =\n",
              "        document.querySelector('#' + key + ' button');\n",
              "      quickchartButtonEl.disabled = true;  // To prevent multiple clicks.\n",
              "      quickchartButtonEl.classList.add('colab-df-spinner');\n",
              "      try {\n",
              "        const charts = await google.colab.kernel.invokeFunction(\n",
              "            'suggestCharts', [key], {});\n",
              "      } catch (error) {\n",
              "        console.error('Error during call to suggestCharts:', error);\n",
              "      }\n",
              "      quickchartButtonEl.classList.remove('colab-df-spinner');\n",
              "      quickchartButtonEl.classList.add('colab-df-quickchart-complete');\n",
              "    }\n",
              "    (() => {\n",
              "      let quickchartButtonEl =\n",
              "        document.querySelector('#df-c476a260-602e-4995-a5d0-730238cb6ac7 button');\n",
              "      quickchartButtonEl.style.display =\n",
              "        google.colab.kernel.accessAllowed ? 'block' : 'none';\n",
              "    })();\n",
              "  </script>\n",
              "</div>\n",
              "\n",
              "    </div>\n",
              "  </div>\n"
            ],
            "application/vnd.google.colaboratory.intrinsic+json": {
              "type": "dataframe",
              "variable_name": "gamefile"
            }
          },
          "metadata": {},
          "execution_count": 5
        }
      ]
    },
    {
      "cell_type": "markdown",
      "source": [
        "Then, we will split data into training and testing datasets."
      ],
      "metadata": {
        "id": "LYH3Ha55h8tR"
      }
    },
    {
      "cell_type": "code",
      "source": [
        "training_data = gamefile[gamefile['SEASON'] == 2021]\n",
        "testing_data = gamefile[gamefile['SEASON'] == 2022]\n",
        "\n",
        "homeWins = training_data['HOME_TEAM_WINS'].value_counts()\n",
        "totalGames = training_data.shape[0]\n",
        "count_ones = homeWins.get(1,0)\n",
        "\n",
        "print(count_ones)\n",
        "print(totalGames)\n",
        "\n",
        "hw2 = testing_data['HOME_TEAM_WINS'].value_counts()\n",
        "tG = testing_data.shape[0]\n",
        "c1 = hw2.get(1,0)\n",
        "\n",
        "print(c1)\n",
        "print(tG)"
      ],
      "metadata": {
        "colab": {
          "base_uri": "https://localhost:8080/"
        },
        "id": "KKZ9r93UjygG",
        "outputId": "6482de19-a75b-451a-b63c-2418f67f52b5"
      },
      "execution_count": null,
      "outputs": [
        {
          "output_type": "stream",
          "name": "stdout",
          "text": [
            "768\n",
            "1389\n",
            "319\n",
            "542\n"
          ]
        }
      ]
    },
    {
      "cell_type": "markdown",
      "source": [
        "As a rudimentary check, we will determine if there any duplicate games existing in our unmodified training data."
      ],
      "metadata": {
        "id": "1q1BdYLir2EQ"
      }
    },
    {
      "cell_type": "code",
      "source": [
        "dupeCount = training_data['GAME_ID'].value_counts()\n",
        "hasDupe = any(count > 1 for count in dupeCount)\n",
        "\n",
        "if hasDupe:\n",
        "  print(\"There are duplicate games.\")\n",
        "else:\n",
        "  print(\"There are no duplicate games.\")"
      ],
      "metadata": {
        "colab": {
          "base_uri": "https://localhost:8080/"
        },
        "id": "4m6_2eArr1Uo",
        "outputId": "4f419463-f479-4fc3-8cb4-ed82790d7581"
      },
      "execution_count": null,
      "outputs": [
        {
          "output_type": "stream",
          "name": "stdout",
          "text": [
            "There are no duplicate games.\n"
          ]
        }
      ]
    },
    {
      "cell_type": "markdown",
      "source": [
        "First, we will implement rolling averages for score by team - To do so, we will generate a method to create a rolling average."
      ],
      "metadata": {
        "id": "Ytl6i4QVFo5z"
      }
    },
    {
      "cell_type": "code",
      "source": [
        "def rolling_average(group, cols, new_cols):\n",
        "  group = group.sort_values(\"GAME_DATE_EST\")\n",
        "  rolling_stats = group[cols].rolling(5, closed='left').mean()\n",
        "  group[new_cols] = rolling_stats\n",
        "  group = group.dropna(subset=new_cols)\n",
        "  return group"
      ],
      "metadata": {
        "id": "JsyViaLYGcvV"
      },
      "execution_count": null,
      "outputs": []
    },
    {
      "cell_type": "markdown",
      "source": [
        "We will generate the columns for rolling data, then calculate the rolling average for each column."
      ],
      "metadata": {
        "id": "ND0y0aeLvHK8"
      }
    },
    {
      "cell_type": "code",
      "source": [
        "cols = [\"PTS_home\", \"FG_PCT_home\", \"REB_home\", \"FG3_PCT_home\", \"PTS_away\", \"FG_PCT_away\", \"REB_away\", \"FG3_PCT_away\"]\n",
        "new_cols = [f\"{c}_rolling\" for c in cols]\n",
        "new_cols"
      ],
      "metadata": {
        "id": "Cci8T4vaG8W0",
        "colab": {
          "base_uri": "https://localhost:8080/"
        },
        "outputId": "1b19d2d5-027e-4009-efa4-be0b9d4986f4"
      },
      "execution_count": null,
      "outputs": [
        {
          "output_type": "execute_result",
          "data": {
            "text/plain": [
              "['PTS_home_rolling',\n",
              " 'FG_PCT_home_rolling',\n",
              " 'REB_home_rolling',\n",
              " 'FG3_PCT_home_rolling',\n",
              " 'PTS_away_rolling',\n",
              " 'FG_PCT_away_rolling',\n",
              " 'REB_away_rolling',\n",
              " 'FG3_PCT_away_rolling']"
            ]
          },
          "metadata": {},
          "execution_count": 9
        }
      ]
    },
    {
      "cell_type": "code",
      "source": [
        "training_data_rolling = training_data.groupby(\"HOME_TEAM_ID\").apply(lambda x: rolling_average(x, cols, new_cols))\n",
        "testing_data_rolling = testing_data.groupby(\"HOME_TEAM_ID\").apply(lambda x: rolling_average(x, cols, new_cols))\n",
        "\n",
        "training_data_rolling = training_data_rolling.droplevel(\"HOME_TEAM_ID\")\n",
        "testing_data_rolling = testing_data_rolling.droplevel(\"HOME_TEAM_ID\")"
      ],
      "metadata": {
        "id": "Uh7ZMJDsH0jt"
      },
      "execution_count": null,
      "outputs": []
    },
    {
      "cell_type": "markdown",
      "source": [
        "To verify our modified dataset is still looking good, let's check it."
      ],
      "metadata": {
        "id": "STcuaDNZ9TDO"
      }
    },
    {
      "cell_type": "code",
      "source": [
        "homeWins = training_data_rolling['HOME_TEAM_WINS'].value_counts()\n",
        "dupeCount = training_data['GAME_ID'].value_counts()\n",
        "hasDupe = any(count > 1 for count in dupeCount)\n",
        "\n",
        "if hasDupe:\n",
        "  print(\"There are duplicate games.\")\n",
        "else:\n",
        "  print(\"There are no duplicate games.\")\n",
        "\n",
        "totalGames = training_data_rolling.shape[0]\n",
        "count_ones = homeWins.get(1,0)\n",
        "\n",
        "print(count_ones)\n",
        "print(totalGames)\n"
      ],
      "metadata": {
        "colab": {
          "base_uri": "https://localhost:8080/"
        },
        "id": "enRlMe6U8-Eo",
        "outputId": "68bbdbfc-ddc6-47f0-99b1-e81ebe625c6c"
      },
      "execution_count": null,
      "outputs": [
        {
          "output_type": "stream",
          "name": "stdout",
          "text": [
            "There are no duplicate games.\n",
            "684\n",
            "1239\n"
          ]
        }
      ]
    },
    {
      "cell_type": "markdown",
      "source": [
        "Then, we can train the machine model on the rolling averages. To do so, we will be using a Random Forest Classifier. This is a good model as it takes in multiple decision trees to decide a prediction for a final result. Here is a diagram showing how it works:\n",
        "\n",
        "![random.webp](data:image/webp;base64,UklGRqxjAABXRUJQVlA4IKBjAADwtACdASogA5ABPm02mUmkIqKhIPHoYIANiWduldh+O/3P+j9G84/Hf7x/MP67/n/8j///bt6iepX6h/ZP7X/jf8B///Fz4T/N/xu/o3//54PIf6Z/Pfxz/f/6Avyb+M/zX+o/sP/XP//4gP6J2Fuif3v+d+wD+Hfxn+pf1P+7/n/6q/jH9n/2P9V/P/4Suzf53+UP+W+wD+of0L+7/3//W/7P+4f//4Z/4jzBOiv9P/RPcB/Hv6B/kv71+4f7////7oftn+p/xP98/93rN/Mv7b/uf77/kP/B+/////Bn8g/mX+J/tn+Q/7f7///z7s/Z5/Zv/8e6D/AP3U/P/SHdUbw/8K+yH68/0fV96m81XtV/QLM3/OPx6/LD1R/Qv4v+AH6xf0D0L/7l+GfyD/wT+KfhX/Fv8r/bv//ugH8O/hX8p/oH6jf0P/pdIB6jv8N/pH5Afvt8AP7N1AH8K/iH9I/Kb9//qf+X/yr8gv5r///e5+Rf0v+0/1n9dP7v///sD/E/4r/Sv6Z/f/8t/ef/z/tPsA9gD9cvYD/Qv+ifyv+5/n/9RKuhXF369DZvHs6f6j1ZvmL/ofUlyqvq0/tnoE+4D3tvSb/wfOA6xn0Gul68swahD8zFaQiKGdqShas6E828eK15+GdqSi3gI+0hLrBR365YKO/XLBR365Xjgheyk58oOpWpKjFHfrlgo79csFHfrlgo79csFHfrlgo79csFHfol6Wb8SOBtcKbYKb+DbBTfwbYKb+DbBTfwbX+ttOf+cDv1w+Gxl5CaAmjUlPh6bSoxR365YKO/XLBR365X4L8Q0bs6b5yXU2C2lRiU4EOAKO/XEJnygo3783CkDbBTfwbYKb7iv68w7InIZXn4xcZGDmSElGeQpAmalLmH6olHfrlgo605PCijDx0gEvlBNsFLMNlkPekq3eDbBTfzt1Ethb0qWDIXv4Ne6mQiAvNkZHOEcdfmyblyBZsGMCBZvJ/DdfIfnZ7JAs4d74JAdDnfrjevlCg95C6vl8whafwbZhB0bIiynZucEey9+/dYbsjieCgoOUJpaVGJRHtk3jx3LEjAJZQo2LbpS/XLBRzEXFzIVS0LdiZYIJUKQNsFN/P6o1vv0lhWbvGvI/iMv1yvHORMtreC94NsFN/BsEreNvXPQXLBR365Xju5q1W2rW8G2Cm/gTMcBrRQq2Wc0UKtlnLpnB5CyxlnNFCrZZzRQqo7dEvmVGKO/XLBOsdJqn4QN8iOlcvg3Sq/6AmcsWekJrCXzLtYS+XiigSXhe/g2wU38GxfQmb8D65YKO/XLBR35pCeWtpUYo79csFHfrjEbXDebfwbYKb+DbAPTrZaUlG3o4tvRxbbwy40dowRH///////////5tjBZzZdkDzBTfwbYKb+DZW5+/dmcTE5ooVbLMHuvp3/JQupYKO/XGLN3ZtmJ8jv1ywUd+uWCgRwt/BRbwBR35pDCtUW3o4tu1ISnDv1w+v4B/+uOC2F7+DbBTfwbYB6dbShi9EFr2E0qglcuRXDv6+bBeJfj0PmRbfwHetpUYo79csFHfmkNnRxYnqi29HFt6OJ2l/KBQHOdHFt6NDb0aGKI4tuilFHfrlgo79csFHfrlgpB4sDkKDGiLE5CR3ToCQfriJ9/NpUYo8BnWCjv1ywUd+uWCjv1ywUd+uV++4YOs3ybf183Ds1xPwlTYLaVGKO/XLBR365YKO/XLBR365YKO/XLBR365XwUfL+bpUbjcwHfrlgo79csFHfrlgo79csFHfrlgo79csFHfrlgo79ccKPMxvCUwt/Btgpv4NsFN+/gi/Dv1xECAMePUlKayhvJu6t03n4MwoXVy7urdJQxbGWc0UKtlnNFCf2gimfXr174hWpDE9SGJ6kMT1IYnqQ29HFt6OLb0cW3o4v/5uHZzcOzm4dnNw7JjxJCWz4b/0gAP7a0AWHOHDK+oJv1+I8/6lAmc0kcrkE36/Eef9SgTOaJaKrucL/mFFE0+PRQU6nArO5h3OfyMHslvDXiDLlvwgYNkqkyez9VtXFO6+vJrXcK8pFq51YMheJtAvRhTthO97mgWqiygNuHn+YxfGQH94SpYTjVj092HWDYCfADMOffQAy28yfMcSNnlKtIKRgxr+3QlVjlWMWwe40GO06FWeEwyznFtlwJxURaEp4ZWO6KM6iZmNTogVPldpdhS1GQDUdKfZf+f8Wfi/DYnQ9ETSnwtjFYnGnAUO4JtctT2JILCCirkTqtogU9iEnfCTJ6Fza+CEQjoPM/+OVyyyIfinr/Ga+aANjsc0kmMkdPinT2cABeuTAKUpRmDeu2ZqC6SoBAB20WYQ0A46o5k9yb9RNoAhNRzMRYC+65Et+/G9tE1vtFn7Bhvbe2be6A0mUymtMJHdOfnHY5jmVpcfT7vjM8A0zwQJyoq0W81IeLmFzAnvB2YxL7ar9AqovbWuZyFuf+3W4i0pMIsY3ieuwJgeA2fZSFCQ4qH7SbAFGMU/tjEgwxr1c3ZbbM/X87/hVPwM6ViC++b95INskb0FV4KDr0tZax48dMGnKhxjdzlNrGjOImy49r2NNy//9EU///t4EPwAsq5WCrkGwA38ded26IoH/AEviJFyRcReJ1UXO8NqHkuPLbwiglG81wnYEbb56QrTXkiE1l2X99wJucCBw5yK0GBmOHsYyntA4QtXnfPmbWr1FaidUxH54VsD/whDJ9OA+sWxJOfhB+8ZfrViPyLft91ugGvRCWvDlHPxshX/MBp3s940r6ZmjugqO/vApTylKAvvG20LHaRIo9CyXGcOdnjqkO0Ypjf9vw7JV44ow48nVCprzbylNHCobpF2MWsC2TV/FDE1I3LfTVJihBGSsrlDQRNrvdd6jz8vqOnL0Q87LYzbt1RzsFu0oe9s5rD5RdzXBP7q0KpNtSYhGH+UXLJDKkFWQH7Cx8707L6ZxS5VPlTy/WwTPa+SqmClLMe8OnTZM/D1gQdvwQx4+bik1v+TgCg2Kdxs0uqbIDkbesEw6kzEiLlexMFmAm+udtIN2uC36B9ZHgvJQlhhvlY2dp1x/q2OTTQXG4LjOkcIqRP21AGYASgZKr+LgwZNBYognr1NqzLuzBb7/fH7mGZyWRyxByQRLtvjkXbYJ+PgSi2nFnTdnKtkrxJc9GdonFwzSdk14MDJqFL/QoqHaqkOaDRrJvwi+R97ZQ0dqpQ/pL8GbGJph9eDpTfmLNTyc0CFRFVtKoHT9RJ4nkdJfql5x856zmU4q6iOsxVv79lnn/UoEzmkjlcgm/X4jz/qUCZzSRyuQTfr8R5/0d0QU84McOqIfIDfSq/I+aT2SrlkgL6doBu62rYje4ADIjTOKZxTbsMAv8a0yt852rhJaBC6er6fX/6DL/4a3KlhvJFbvZchKEoUQqlKnmkdz3k3UunxNreDXOIoIY27pYA2Yjrx5eEC+vMGAEK9u8JrlL1btSHrQwbdcu3Z7W0lXx2ioUnFqmZ9At/fyWauIVCwPjpkZOFqRKuhH/RnLGPVVbbF4nBp9QBQWsQ1J/pzqTOkFJraTI6L6TA2k8ib1pbKyqzHJeMvAUqdEDtFgDGRs2OAlGVDWNtRmDOM78CU10Ydj5webld/UyIxtbRwbp6hfVUn+StQL2j7WZV7RX/EjGXqWLdjC3N5GcIACeJZtCFSukq6nFRZjCpfERoMIUbJMMQsU/gZLIaYAuCBivsvnZSCZQrsSYWPs5XfL6oejMRogHCPuJFHDprr5P/LpT6xT90Jf8CphHrYknuQBMfvdpzJCSc2KzViWCW57EnldRN1R/KOPrhO0/iYS58qom4BVgeuRfBEp0NmES1aK0lShKrS0kloRZaHQ8kHDgStZoG1cQY5XlTpbsSKmcKqg4/RApUKzhyNrzZTcKM+wEwZbA4y2Qsgm6+xxEuqKPI08bG20M8hq3H2yc3QInNAHIa1gsb6NNwlvzjUfbXq8UxOjz3WZ+sjhjgKb9Romk1nC6wL4vueuDzV4HWsgy6ui3IPwaF+G4XNwlsK1EXwveFWPeulLphpxog5tmzIkPmiehAeN1f3rZsF/UOdVUke7DKbkE1sXglBZ70REtk/vMt8H4/WlLyeSjIRumY0AlDPAAuqseMFDJ5WGDyrwZ+GuCFTu06duxGaaK1y8LhZAYNzGLXbWIjD7H+VN45y9GW6ayXR3HPfju4m+l0VQr5WR1qW6q6RbLfHLgLZzgVrH4j/vmBqZUGYKuW5UQpPXSz1HXeNoNGIEbxMZhGiLTKUVPvS2EQD15CBudy85qcOVwyVGV0aZT64uKhHDwyPWCyeuu/tcng5ayPyog8zayTMaBiqJnePlNQ6AJVChBgqBQDjH25kcD0mxEeTzpbSaHQ0gSsIR2aDx0kojZmtbBCMkwS0pt7v69RwwPyjhJ1fk2VA5qeMDO9JY5PA6JUGM8vJVY3UOn9UAaIQB3nHkUWDVyGXYdx+P1F6XiH0IZ0Sdwtly+W34+IAEwkLKhxWZbDUY3O4UtlwO3zTvczuio4xpk3yQQOiQr6m+IGuaSmAMQ8y1VyNjNwJv0mUzRKJlskcS7Hj06HiC8DVmdA7mEWa3cxzpA5vCFE+XcSydi6DMrgXbDJ2McvWqdvF77aCQ7BD3DSdHKH+/yVRZNEGUuPhyQyHA/6NAtFunHoUyBGY6i/YA7Vk6/Vi0W2x3E/NE29NG+MA7NUTfDG1PwvYwIRRH6vSOrmd0HrO0+HRgXCsZzQWn0yoEEMAfZ2qj6HFnp5lK+7iWFxOEm6CU4EEyHDsah6Sn8Aqrt8dtM1YE40IzmgFPoB57/pM7L0Go7AuoBmFjjH1LcElFGtgk6vHTUoRXvdKZJGCl+0wO8+xCkmnHAVuFISpIC6KXKBvW0LfF3o5/ALH6ndxV4ksOoKvrUbFwLB6yJDNQD/c5aBMcurL2S04QwTQc3Rj6LoymqyWsZHLIEsEv/kcP24ZgLHP72SwtMFp4LmhbG+zIjtLGYPoNdZ9mMu9TjMF4JRFCiDPYlhPgOwIwTz4/Oz3s/JRHu4jZZbs0UnKpleEdXpyxVFQjEVNlDpX+BRylcGs2+bFVRMo51yfoeOBv9J6VGsUCFKRohjpyrCXJ8NXvXf0abR162utGrutx13eJvXI8pfBN4rgKuZpFLhrt8q2Ht9pYQzjbPMrB9hhhll2NhHSWuRpfZBhQUnB747vQSQ4Usi8NrH1E6nTixPfh0wJZ8FB1Wxq2ayvEuoh199D4xEVu8Z5x8DPUX7/Iv3jq5Ne1Gtbd6WPn2LZ+h5nB5wQghiWY4NZ+scsPz0Ox3BscE1oVYfyfmBjN08wSbSkmfFHaSMFYuhShhOGiopt3VKxVe/DwA3LyjK90pR412sqyasymkgnZHFEhewcL4DLLRU7Chpm8l8DP8FaZ7DM3kyARrXgQMSyRTSGzxLeQgAPA2RtpKD/iztaNvMHy4O4bX0oBVHwYZXGYmWCxixJx0Bq7ljzrz43rmwTR5JbbRChtW5VvaKN8PhWQmNLh+hKPRQDK3Tip+X/dmNoDmNJQjfqE+XvuHxFtatJnAkQNj9fNI8JiwwwgkLaRZARHBW8UhNCQ1xdeRhZ1/WO+w7b2CpHtBOossBMhUHIKAoT3D1BYl4gvhc2+YoY0p02rFUQ04IeDs5MVKojyGaQv0IvyCC2kcan0MCVyWwWJ1fscPZt3nbktSzVl1E/cV24r1sOb6wwYxxmRlbiNf/Wd/Okjai7KRaa57N1Ia5D4NsJmNodQHzHeshXPx7EF8fowuxjqy7tVX4YlWfyZ1nw/eBOunHHhrclLryXu0E55dZaVhXyHBfgA3EI4ZPch6z9eb8k3CRka9sy2fMopi5Qo5uzFdVkAPxGR52cg+6OB3oQ7lMo/gKNS/gCdy40LlyarJc8gHyblj8kvtDqQX1d++jYttmm7BvMucdtPxzZYWrMs4Sy5MS3W+eUFTSOaallO1DMFM8IOhzPa1Q31GO8kva+/tIYf7vy7XFsHfcq8mgICA4cMyZNPB/PEgW+qvbgHxGOEWy8J/HyR+0lB2VUcM7NQaUAXs02doE0fu4KiQ8n+XBdQJJ+h6uYZwM2h0gicV3zozD5o0biSBJJJI4Wqy+eGSQgBmxysBwXvZztUUnN1YFpyuRG7XzHPvIrAh8p0NuZCX5fLQwVrEKDaIJ7HbLZRXp0GtEF01sfclBLz8UJaSV0Xg0Tg3kl+WeE7zfGpGxr2X7QgulkgG9XKE2l+l56CSpuedqTdxiRVSQwQBeFU27/CZvhKQxaH+fuycihMrZmOtHmeOwvtYGz+hyRGFj4cQ/aGIrghrvMoKki24z7tW97fJI6Rgh8BWUMnZ3FOumT3BCidq2jyECTY7437C3so8aWvnWHRcHYo5fekW8C5qdOYBtRsOhuTTklejSkcCdp9RicfS/tZ+Uiww3i2N1QnkSvMHAxbHilZCBYa/nitpai/JsCfwRG87orYgyyppfRNoyHRzrxLsgKMeOmwwgMsdmHJyTl9ltZDupeeqGjiW8s4ZWR6QLttgIxa0ZKmQSmgClxU7DnaDBZgvFXX/7DCRFiyu9LfVjScZ1y6CbXJgCFsz3umdJIEcEJ+9szRCTD6Uqk2jOLqNmxddgvJjIUhTF5JY4Z//cN51kz3P/TjPi3AiiDrGhgAEm3+cCJ69/ijHH0ENwoSAOGKjmraNyI+ZD+UwPL6pu8WqP+E12eS6gtFVQ/Nkrag0r8A+J8qNExmO/19wmxcYnaoNwGtdob/xT59pK98DmaCadku45uDUnCsTWZAw94BYIOwVM9FrFKest8HHTwbW/CHCgi6qOfGrJnKFKDnvLCzEVWWZ1agxsWBIclcmSR/uz3+FQgB/xxh9hsIhW4Wk5eb8q+O//iqc84wY4bYq6vjMkFmfho3EVhQ7u6aoRs6ElF2OyfhOpZpQcUDO/PS1DKVMvxM2onfHdO9q3504KT98E7YsXG2dA5E1vDltiGn+Rp3to0rAcYrLVLtLsoUn7Uw+EI+hNVfTe4FQDFH9N8DUWwAwSbKVjnItwRXClcPDEHWnNHGtHCAH0orwWGpp9aQwffmWN85iHCu2kC29lfxPf21JaFZwHvC/R1vCBx/Br+5SZ+760TfzUyjhL9ulNWW+ul6+YebAywYpu2tlkfOWATVeVT+yUdv8Mr3Z63UEfVZc1eT4gz6TQU32J7sPFkNeEW3pAOZ0x/jfBRU9CsG+OB4MY84JUBc7ta9nVatYJ9RLWQTxxut1TVbgTewqlGQYx9TTeTNaiDyDCITib6XRTZCLU7pnL8rQqYtGgLfW+IsC8fJyMfy0k/Zea7wlsVNx8+gtGtMOM5V3sHblkRVnzYRsGmBlYBHiuuHJ+B1pD+pGptj//g0AyZVPdno/A/mcI+KHQeyiN0JHfFjwcwB7AFkgEC8gSz0NXLDA1LK7W2fnAM08InigzcuoTFHNZtGLNTkzmyea9sClPf5sOkN+4/rJHu0DObTK7cUIc2XrbDO7wFWZdBi92aPAWiVC2GMgr7iqgZA7vixCY3jxn9iice7jaVsCbICj6fOoBhIix2u3h7nVjF4FlmZjYad3dNu0R8fYPxDpmFkzMw1ffjBclysLzWrAXMzKrSHz0W22F5ZTcHtGj+0ocrVL3g23EroNJLzNBA5H1Hscdrd5RaxKXCRexWRnY97LikqqLgcX4hm/7TfWV80+f8Pchu801D3lmYqojrCN5SE+UKgU+QZiXb+jKuTI9nXMzy+U4rdLib5KFCAHCCkVd9+wtV4yxFE99uooeAY0nuuwE7Xhbs81UsfXJ2vC3Z5qpY+uTtP0/KSRI0tHwOxjdtEL8erQ027YF2SujvKnC/rbjmG5LdeCpUIhHCJPc8W3yTBnt4jQR3QbtyjFPQXa3wGvVL8ktnFeHNbnHaCHe5EB+L79I3Hfc9O5BcBHhKFcGbEdD89vMmje2v2nRTkvwzh8Y6MdkTm3h4995qNRpvnmDC8XIlf0fJkHP8fjcKwVrPGsg0oLv71sTPyIIAVvYw7gixW7Rblg8SieVILASMGypY7oVjbTOesYkuchzWMyH2ojJD3CNTTYWgsWwu0gwDo6J4WuZyFoJL9RFIVRBnjqPhXDj+fqV8W8dB6nu82jtIi/MNfDihu/VQ2GDqz//jtEQGZYw7sdQYLmtAoEXTuJ82ErhaC6J0pluGdmkaA4t6CR748P4O8lnws6g5gXsQAQRInC23PcOaf7VTFl5sOM6Ytn5+qT55vgi/4XJh38SP4FGR2y9jrn3aHcgvTJN4O+GHPsUdMKLInUqUi8fcZYNLHcV1WzzriRjtZ8KTkDQjmgNXjJN3iYQlXG6iDpzYwc9lkx6YehJUxLmoxV0o1o98+wfko5VQpkToe7LAk76bTeoIsLV+D1FSIpo/H+ecksUWpHj3Sm/vznQVyRopJmFsCejCeJsMmNAncXZ4R5Q+R6xtAGV7M4rzr2MN00Fuskk13cu5EfKCQdHrjju82IpSn0HQEBtOTt8Wi+ZoPOF6PP3EKjKUB0aWjXctgHLPndpqiuho6TsLTQcs/PuWTUEVf2g0p0IXO8ApHfgCLlrdUluD9/GL/GSMHQqY4hW5EERvka/aCXTbFriIZ18aDFdwbF15DJl1fp6fIgZ4IcFE2T7XtCPkUzIlXgh9bse2ZRgp9ZFB86tYdCgVKS8VAOwAc3foCvlEUj4zAGPJ0WY3Yc57Qv8bM1dIs9RHDXJ1xC4t8nanjiojswXo6Dk9AADsJSGRpP8dqh9QtFM+PxIF3Tge05vSQBNC6IVpBoZGsw8OVIWtxsXQgQRNFO+RItavGvLIRwMmvhnCApRkyvZRYln1Q+vFYGGIISpw0D/BGruiTHrNDDsRlPwdRnmlSISldy8+6dtKQiRy0h/W8rGG+CpQWF/4EbpmtUuqBpTzexlZodRw/pGOkRo5exZ819B4vp0e5nsSq6hOUcqksBgYcIUIkh5qYJ2I5QkbLXMblPBLVb3FcN11j8/2Qb3fZAIZmb8yYkvoKtzMClr3M+6XlPyFb32D0wOruD0yYDOaSAx445gNZSIo1ITGEXBS6z5UfRwJM0f6RTfBAICKOQT+lDJYnYkLMtIE2EDVuYnjf2IWSYmrHCL8A+8xogyqjshxOV9s9VP4UrySyAGX2w7OuiyLoeiGywwW2GHt3ExIyWruxIP6UNy0lTW68dCUQpr5duoNIjskUR4ps389uxCrjFV0TFSkYqj3GrbrF5zi9YE3PVNNRWtsZJs/jwfxeisaTr9P4L0s5OdxnZa5S3EDBYSQ9mujJM9eeR41bqRIkggcvOsbqWff92fxRXfFw7iH99LpyzWL8LY/Wv/5YjkvDxbJSp8l8+w1JjFUSaKdT7MpatVEnDnd7G1pN9GcqKdbprahFgqh/EXs7Ow75OQFr+bYQ1XVZX3LDYCn7VwADzEDGFGF3+rHLOK5z7thhOs/rQWdMzuioxaoNusPEv8TAcj28cpF+vWk+t8wQPQOS7LQuVAdidrGDPlT4zpKMNm2Owth+jqPAkA+1BckvHuH4WssxsbwkhjTek6G0vPG5gUuHRU4DqcipqDXdAPeoNPqb3F4Rfwf09kRWSDnC9qLYfJkVY1/QLujPgfsHeg6eAuTc2TEzGd28e9Bj/1mu6zxWrrx2lJ8/iUh8Demr3AzcAv+Mqxuh9SlX3t26rhZAsFxfIwOa2oYaxrdtuGj55csLZZ9dc07yvhnykn07k5FY5Iy30lQ1mOQ4/b8uq/VHU15nwuBZR8/kt6XM4VOuc0rW/VBlOSF+xrI3o3weoEgIVKzIEfnFA6nx575MjtSsGPIE+ZqoJBc5yt40TNG2YdIFP43Nv6C8vAmkq4woshdfwmilBSctxLKF+CkMwxcBfzAWTBg0kaDE6r34g+wT5SDMcGe0KFqNZ0ar5OV2K5HIa5BfZ8uNL/br/H73FAnxeNGcIuoEAq6T69GaIhiVK4rxFyZ6jUNvJGym8wEhYYNFpXSKKdv4BQQ0NQGA+CWw4nTCeCvCqrxssdz9SE7M98pqw4QpvX04EHhdT0nRwZGqhcXYL/xw4vCUBBoVesF5ZKMCPpvFMvKjyz3JaXChWD3p4SCkIruIkUTYaK5BCstYtnSTtoCBbg0drTRRX+8fYT55v8feccAAaO9f5bJj/n2Wyt8N98GOvxnrH0ccG5RipaQwN3Wnaixk8T7UjV3kEtQ2G5YhaDc6w8q2fhN203yx8z1LmoIFw1I0a1fkj916/5ffqaFKtCDBr11cgg4CiKAvUikkupNEpe6rB9NDiGZcXT4UjiElIxPT5D+ThhVyZNOkTfAQmdm+bahAAKu6QrBh//7P632OtydVEIBy39WJ6w4CXAtBGnwPnlDbTCZXRGwzKkZF7hUCNrUEV5bDO1JlNPyJE/fDq7uZSI623nxZoh+SgtGD0votWVCCY9Cp/qD53MdBLbagFxwHL9IN96kHz+zwPCFg8HbfLK6AS50BHm4EVUrJ/RvPHs0J6xu9qRQNe8uMiScjAvTICH43Ti5GSUYKKvXXJQDeAGFe5ZvlX8VHMqwSTQHAYie1r4CP4bo1suxoIJ278+cm2mFIlVz64JPyauRjBy7G1GyfLN/hjww80ZPMq2nADhtmW7EIkou5EW71PiAnxYryZgdHghVaHUHuN+HaqUuaA4/9o9TH5O4+WcJrqh0j9c+71hqP2hInWODvY+1R8zDlxcjnsaocASJGzNLaWeUdPheZQh5Vj3f1fkvUJ2g5gdhh3EXEv5lA68B0nhqwpA9E0hQjQjvrYP+dk1PBLYq32noBd8S3BUwK2lSaX8ELB1Xi0pc8/UdgZ7mqGNl9jSz+AzAgeXEkack9p0qaRJtrtN+65K8fZ5knNkyGn1Wx0O5ylXDZNhvF828OX600+oInwtyeT3ggl808jbEm0FbFey1mfvl6lfBLlsKMrIi1dTqgDUipS6KiaGUJe6P6TH0YoR6pKyLRX3eQm12/NYlLhmyNrbowDmcJ8+tOhyTSnei+YID7/DDf8lURxCqSwpsNY1ciPFF5Ro35OpDcM3BUyw/VzDPsEA18Ve4ABRBQiIVjrMo1jTRuo/4SkrqodPBXyqw9mJbSw6p1ixVKoiv4usC5uLEazIBgiryVahVpdqlckGnxxAOafMpx2KgMZDjPmLiigDqaVv7KnjVJqu5m5YXu9vkSqy/Cwjh1KoSJ0OUNREYgX1Rarwnbs3yMJxwxg7mV3zVHEUJGsGORu7rCv9InqVM5cHdkPSh+NfAsvfPB9UXWuVWU+uHhtajrf0rzb4J1NdqfFarKnO3Zksr7zR8MfRgI6SUyhO3P2kGV6KVL8gIsc/0gwrgtnB2RFYPZr0+8sIels3SBVNDu8YTmumPbdm4+LCIFf8GS13InHQjQp/Hy6mr2kt9lxum+COsEczzkm6d5T05rKI9DJ8gibRYg+Z13MBLBbd76UxVggkGm32V2UfnCRS4a9GW/tjqYw6wzTy+jzdJPMjH//km7mA/kgyl6f+qnxAfwPjAs9B6fQ659knvWmLnpo0sKC69bIXFXDcAHDe8mpsKNm23ayl43xaKLPpRu/VrtMBuSRs+9ez019rxzEgTPKxyZDcXucCiwPgChp7FZG+7N1SAHcUeX/Zl9sGBjI1QOdwuR5xl8ufsEUYt30wtpBz3oXH3bjzwIGNeN24sULDuaHH5w6o54DpuX7dBnJk4K7NA3N4pzK778K8hZAOh8PiRO5D/MfGAXBk1FgJW+NpSv36+00y5pkQK5jQR0ziVuYrZgduR1DK0/elRsN3Wyd/ZbggbylgdjCMI0+VPqNdhKEtVDO4UpV+mh4ZmelWcA0diRIyMP3OmNwoOXb+5FQfDgLrXIfNkWYsIuWdSOBzEYDqoHPnwYHgLtu8lDElnEqARPBJjgy4P3TWMvq0fVAQ3Knct6caPH5qMEf+RwDe2sOiz/+01K2J9bIOzEI4qT2wVTIm23NIVxeskuYqb6SPLTCTC8LV9lX2wVNMfP253x7axdotYfPnMnxNoIc0BA8A/crOmqNmuXkZzqFfzfzmouwn4pRDvS8qcP+8JyaYTdo524pNqMJRB/YvMcPnuZdGtNH/0+j+Xd1o5cL8oBfZj5660vTYrcRH3o3l/UM3tOJQihYZxF36QPov+qZqf8cpLQJiMI/qPlmOa5mHcEbR+N7q7ro64uf4z6OzgCPb0wCrTMeab6Z8iYOw0pXTL5jrqCeDfjrd/ivuO2FQKBJrvOgHFpaOwrt9acgvcoSWrYMSe82Cmf/Pb2ixCbZEdOx7vdgVXUNDqSCDUHd3ovqUz1beSFU9RUIExybI1dgrMGx1nNxPty2b2yPTciZz7gOK73Yxscf5B+X/r/xNY5/6UkyZhcX+znAjIaPQt5upaLOedFxSVHjucZ9P/o6HQ8Un03UpZp9cQ59MhJPSNlPh+uVkf6Vv0gAC0nIR9tAuMjfCSKxBqkVojo3prupCjsuaCAKlbVnGVRIIqrtT8XbH4TkqhgL8bGl48UOoS9buanFaYAJLPAKAP+A2dzu5/BnXcjPMvRzfr7TqLl1J5pdulWnpiYxbY6HnJCExPsb2P431jP3NFA4W+sXpiWo/Xvzwah2XpGGbOxIdAqSZc3qpoOGelBiDUDo+GpbRQkKbY+TzWTh/mn7J1C7RiTtff+8PNfd/HR4/564/BrmlsI4PFT0xbmqHCNr7j6PEXX7CNJ2/8IrbF+60hLY//vO6k0ZV7TUsFF+EPO1VP7t5WUSqKIasvF5RUijYXtJlmOdRgmVXyD6l+9Q7N7IUa8NBqf9YM3azi1k5lcbFsgowFkf5nHeDeFn//m1+JyMEiEazonw+CEAtZAFnZhdB5cldUTKv8KJmbYBjJ6mym+4VSxIqyryaJq6NFEdPfIkirHdL2/nUWf88TZHvox/4J+b//lGilsVvT5MY3Iyi0zQScJWsqCuNAQa37JCuuVhwuhtTq1z4ftP3ZnXT+5XfewPIR4mj310xJ89ANBrEYqfz+15iPqXF0J/2w+An2mwycMiqL/JZDfCh0Xp/6nh4sc05GebMqI1JVen7oRu8c1KjVCJ7m2A1QfwSY2kzrhDeX2aAyaA/qKp6UXWOb3CVAIVWWRYEzNYwbpK9zc46zmoU7u8AdKgYSicizb30TMJzaShGPDSD//5Mr79QrNxqtBdSO3M8kJTmA4ha+AjLCJVnIBZHgxTaHA1RpmYfQ3gJGhjKJlbTiioO6EfQgUiLjcIlV0CEYehKhUKN5gXS9vMZ5i4bOrrR+ZL4qH562616n5bcIX3s9+lSLQYAsDlgvhwNOdG1S5rDV1oW9WBs6xZVvBZH4BBYvFeb8sW10/bV1oFoetZHRRNlz6F1Il2A6KygLaRNPBGZo4Z01dA9VMIQ6JsKJKY7PmRrvyIZTXBSO70Rnb23UPhaaNHBMDr19wPUgP4j7yNWiaPI+g9i2z/a+t9w4ea/U3SgPgqardpshUJSXVzvZ4qpEaSErjuDbNO4rqUVq/Os1EriJQ0NKqtoS4SO7RgEsFrWpK6nGdfP65wv21dHfGiDMM2c3NCGaxVy0w9mqMBoXuJAVh2JXg20XZ0iwxpVjRVZkMKdwkKyf2jljDtlB4KzoNLaWdnwN3Dglov4S9e3ElXvTnwfomGJS8cf8u37mcmXwtzMbwVxeGwbBCGmK7CKlFyFDLe88NB5i8wJZENeptl00KSQAPSWZxNbqA4fYFSs4BupkCbKQ8tQZ862JX+a6M45LrjJQBA9dTMCChX9W+L1LKBXo1XAx/6yTavOyUrhq+vnud3uJq2FG/rsY1jfAtUx1mol1wL6dKJSJylUUH+7XKtGVVmma1+OfibBJkLIIzvErl+zEumolLxbO8a89Gle/yrqj0AzN5k2Z+AHerXBZTVlLC6a7SoeVq3k5jvVi5MSPcbzviQJfTdNsbKL9Z7wz7Gj7lWjA2Prdk41S7Q9/bh9DD9n9A+ScXDl67hJTNRorx7cj/6VjHFLQzm/rTxP2cA5C2KcnhPl5IhK/EMIGaY3oDS5aVHD5qybDRh40/8EU0DSxC0LC7sc5vKpT5cVUQ6dJhy8fY6gGS8u7/XQ+jzPN/8g+oZkY2Wpa+F7Oa6hCJxHf9hPuV5xWSZAshRYBlKB1grdbnCHuR8mwmDlVSaZx522XUGC+yySG23mtFaoJUfYr+KG7x/pRv/eKsPqfqjKbxL/kOtuaVDEjxcmkvth2fsEylawvaMFZ7zDWxt4KyR02tNlcuOJ2wPUq5xLyyHmr4Mt6AyQZ+ugZHW//0v+EooL50nrf+o1940jxy0k83Kc5F+1FrLPzhVpEBxvXKNqk5B+egkpX2NWyR4ILivadLgEIYSGL6vggl51GFAEKGUbLG1/0ppS2+6eK1xUrIr+E0MUb6U0pbfdPEHAsc8NFZmXvegjT2HJ6D3O4tLJco0E78duNloWxpVE5ohDC/KLvZiX02ekb7fPMChTk95GUfyWQ3wsvxYph9s2uvyvpm4qedx+o1kk/xCkCah0NLF3jiaU8mkSyeycxfEkInvSCPD0QQ23QjWze2dJ8hwhn3G/q2Ze/womufyc64B2WacbaEGRZWCz8IaeQf8gugzNLU8K0zThTIG1VYC5Khyf/Xvt8PaaFyQaqvLGby3BHam2SIDjfy6S8vn++dNaQn+1qbfFUOeeVhutqv+iGkCjZPe01s/ERuLghFK2e0MAZ8ULz3Sw5ko7IaUsPnQa0BonfE2qgRdEGdbEfFLDBeJ/cV5t/fVsbyiwHJPUkicvdzPCrrYrNlouvTSJJ/GD3S7D2KUCdIGquKKi35KJKOv6MnE9E4SqXx6U030RxGNaodtkMRWO8iOHwrV7QVcN5faKoxnzH4c1Q4RtfZ7vPzlf4ER5DamcOaS+NGNYYhu5QrZ5LnqBpDcu/GXyMAnlekot//QloGzGc07naMha5dGMEB+2VE/KyXZvZzvQz7mSc/8SvgUi+mObr82eAQfmhem7cHFPQ2LSB9TPdUln3xT1rZ2k9mX7S7LyrNVqj0QfYhQj//9zG+Lcw3sLQAmgCq7nmVOeaPxZ3hjrjL4ppUYIacTJj+1UPf0a55ICwTgDMRqm6f3e3vys/ri8DWzyGf/r6BpHrfxSU2ZxqeZ+GCUFNRx7jd4Qf1HY+x60lclgve75s+Sr5qgpkJzhIPxgUA1wZRAyWPFEAkYVDvhunHu+trqJlTuQPyqd7d+fT5gYP5MKbEzVmxPU36QB7JoWyXLkO+tC8z9HoUb4OkK4dfPsQ97p9ABxLzjll/fOKoRPEJIyaZjs45Jj6IiasYX+SwlmM3TrLrKWfOTbjtNKAa0YXwk+lPZNoMtWrOQEiAwyD9/VnCQPefbgEDZkQFrzB+/n39yVIyeVfth14EEN91Ht4LC0ZbROt+hXejc6xLzvXHJe2P7ZTWhM51iusoCi+3k6BU4saPqykzr+8UBnmuUU96nDc550Gs55wTWK90qATRSMCF6UjM+suvgiQvOE8fYFgtEdKYSb6+1hbLgU0/rz2tXKMrpD8gOG3JhMXy56jCI3BMsWHVLcg9s15STc6lKg9papU2gUwtXRQxOmPCjYwoZ8ag6K6DFOXKXxzC1gL/X0V/6bphPICUOawdPjxwI2yyfxgj0MJZXnybv97SPxM+gc/BbdLTDqNXbk45YssYX1LcMaDpPubvSHfXyihvMXSrmjijxf7YA7ZcPtnmy3htk6Y2GRoKxiw22U2aPKtd9FUFOq5sAPt4cIZ3WrIvRtmLKwlyVrT3lWOw5Ybw46Im9oe0w9UARq/IQ6UJbk6T8UGUhowcU9DZ86/TekhHQNxQVO4a9Y87/4tkbZPGK7uXfpQkPYq8ojz5j8OaocI2vTqgaqy0rC2Hn32gG2WD4qhJuccL/smAEjYj+ZiJYHRs//tqTJfySknREmI+Xoe9cL0QYUhchCWr2Wwm5UoI+isUnrSUq3u26sqmyJ75ofp7aX8aScTMcrhPBRtQtLRys77/fHBAFPCz1VTD1cZi8A7+KnpaPNSHGc//+OZtPOVeV06kYh1+c6owZqVCEfKnDmYOHazwDf+ucnPSJ6dm1G7u5Qr8S2LdIJbBBXTvRLvrDXmg7XzY0scw9I825WVWJqSl45rNWnR02jnkIkrTeD/wzqf7U2sVl+bwIe/kfSVnkh1GpAl0RX6ySPmiwQqonG0YgS0Buh6X97iF+Ah1/vG5z96sFeNpvJcif2rkKZ1lacSueK+JCa+gYzCnQGoXzU2A4Hb5SAkYCv6Pgtwe9dL4TbLf/uvxhLKqBC+n2hxBtBBCQvNJD12F6HAeCY+qrQIVGwiT6/lCy4JtI+tl8rbrcF46eDQhi7K9jgmrB2sb65pSyoiIxdeGIqfrgi79s28JhN+KzJAHxHwY/j889igw/lUPUu/gvqoX/ag9ODo15F13CnQ/JWiXRSdW7GtcVG3tHCtZLHPRGQKcWFzoNsHNKff/+8Ta6/XmEkeTAEQZUatqs2oYY5FSGBjKPilCPTp9Kn1BE59q/g6ldGr1PQR0+JE0nDXalz61i/dwL8fVxmLqyBaZGUqT+/0y5x5MvGv2tUoKkHlhx6ag4AuV+aTOikC11dE3AWpBWkdexiLR5JK9DQjxu016jqb5FFC9bnOzJdeHvFg9UHLlAPYSfhQKjjK9sEmRvXCuF5CVbV9AC01iSl6pKrcDy/GdIQBgUJKqoXdp/2QaeQGbU5gWsesjtloNvTyuWrKEw1uVz7BRoMKlfNymaNPh0ZzrefxvDk6O8Ly/TzTU0ZX+LaWwXgtVu8Qj8//5In96sEbcP9ms/9VwcjGRb3TIdy/IoGfvlv3G2a5wklaVNVMQpmr9pWRITLOHe0FUDC1OcwuZ2pK940nkXiy6V/WD85cwqJ0x+7+P/K8htVFQYhr3LI5L6YCVRSmpF6ihYKdSVQvxHGhJCuaHtLgw0bXSW+dtu84tAU7jj4T5+GviIbRCtB/oigt43bxscdrBn/AqWCMwu20nIMfiE+/o3+uajL2v58+c+ruh/x5e2HaG8KxY/0ZweRt9MlM+dQI4fSjInF1TtDSJ/DQS0G2/f0M96OroStxH8zq3A2ZarZHZ+vq22xZuPeTHPN6/g9+Canr9y0AIW/a3c1+neKZhndTNndfeTU9kjDLEAWe71EEY+W5LZEbtIu7HMTV3ewkd5jph7dNAv8245ZbgAfSif/v5HOX8yhJPkQbY+zfOfcT+kopY7noKfzqN4zbsnsMRJe/urXnJPnhGrxDHHC3C/8HvwTU9VaqmPDUunpZkST0cySvDe+WCAiNxhphBbFS7bAARj5bktkRu0i7scxJPl7HydBueWzU92ZhEqF+TuOvtpCiDNowO1C76pffW3I89SyHK8OxesnQ9b77DGob7cU+tsWfwco8d9M1KB4I8L5skPM6kQJOJ/U4Zd67kU1BsuADqNaixEOjgZeSDvZ5OaJEop5cNDbg217fhfegTIiQg+si1EAvdNP88mAejZH//CMaqzc2QbLvCwmut6dMYFKYJ0F4ADQFsKPSk8CHIvQIMIc6R3Byc7mbijuOS3aT31MW8wMkioNwo7Mw0wl5GcrDADeCS7M/KtAzGQZLOyEHGy29yAKdE+0d/1qti+iFx4aCS1uYnmx33pG/vnL/F06HBUFvz/RUb42CzsswM36nl1k13RSvgnXMHq87IVY4PKGYB+Z9yD6T9/it5nr4Hxg/S/dFxvzlH9cXd1tWmtde/ey2mSxuCET83H0vxKj8L7ZGkM1FyGLHP4Pfgmp6q1VMeGpZRzjzljoi4hgwd5IuHXFrGZExqo3Em2uVfrWqNpprSw8Md1SCVJTR6n6ShgofSBfGqs9qX8wiGlv4opjs4Cf1lCSfy9NsPvwqcf0lFLHc++u/5wa177o8K4y2QYtfGSwCJynj2IVGlWn1R/J7ddZOmOGWzYpT2Yf6zYqlxuiApE1g4UhUvmzHVSsbnvNxrX6A5qr9a1RtNM3Qhhot1KuSqNahQD8ynuzNQOjOuy3SKsgnkKH08O0FecLZcjL6vHk///zgJpaxg7W59WoUV1GGJqmY/yayYnnQDiw3w1X2s+sZbCsI+6CTiSTcGlcjQt/MKUPwWNXptK1qPAhcZ0riP1kXzDxBkG3Btr2/DS/1XLyyU7usVwVJuw54RNfwNWlX7pMQ3DG5oPAxxfQBm89Mfkj8bME4y0JP0RU6rIFWBb+8KPH8OfAMBYKdSVPd2CTI3rhXC7fs5VM1pAXnZfD+36nl7PIAp4iRmbL/QikvzIvbSVt0jDzh70/KNwC4vdX+6sFUXP7p2vztcDHEkrOoSimEG862gKjxH08j7euyHo2g3cZor/wBnPWhvmKiwbi9s2flnm0dP9ms/9VyFM55CA7BW0yFgTMQv6Q0wWMCS1BnzrYlf5rozjkuuRKBtk/ChhjdqZe7MnfKzFb8ks7zmcKmCnzPdxs1/3QgprLsee/4GjakaSth5v//9bsp/HxAg2j/4MfQHMaLP93fv7z+fwqlzsW3Z30sUBdGrQ64Tuc8J6PRFvMEzw1j86rk2Uev2a6tnTkgIbrIIAqxqzxE/AjbLHl1HNfjmntGMiTpZ/ibuPJo33XJm4rKHNdPam69CcZybYRrKOkUhvjkuuP+HQ+A+hxJB/eftqsPg8GH6d+GwXwAcbBpsaabP1dPhgzjrAQnNw9dM38ernItdcf8ZZgIqLQ+QHignSlupGdVAviJAfYVyjdapnMDKLIpDqu9ZTx5AAFC0Ow+4TsPIenVTZzLm4gWjdwtiYE2HtnVV2p0uWMeJrhMDzV/d7nU5mlfE2KqlkJ/LiiPicq8jRRT+eGfM0dz6boDVCtm9MWBA4rjsD7nQhxDBJavimMPnR4EhNGFrs4DkUL0tA2wCtgX1gST0cySp9XyP3qznQDgJDLW6SjIoGzIcjUVVvVLuDUOR9YHzvdV4Vbe7rWTXftrXVCIwjT+KKsxIeH9ZR8n17lQ7va+Rqv+JRSdfvrv+dR/2qCQM2OPmU7y2uX/SwfD0IBhC4ElqDPnWxK/zWLKXi8SwAKYpcxE07eWCjzVVHpfMfigw75/kljut7UtbeUY7q8+mf/zr6TzguzQ+brcVj9HO6hD///rNKfWVbj72zBG6rwH9z1f1lzBiSCpvkAqXJW+PEShEEpw3egwwFgp1JU9hCC7kAPk+KgiEV5TyA1Phlmqxq5PHbgRH3beOc5thy83Xz3pqIoRqfLXYmxRJdOBvIIDBz5AkE5XHFbkB+sIKUWnHoyRFJStdlkgP6AzoNHrxIhCYvlz1DUrH34bBaVKo34TGTMVOODnGnXyVdp/qrV5CIgvyk+/q5yLahQo/8URrEUWa6xw/2cogCcTlJ0vFbZmnU9px/N//8+Gaj32Gr3yuHFnehAUtX0hcl4yss6lOcdtXC/fykFWQRz8taLyVe2iJ31WcHUEVVKKXz6uNdGMP0xjUjzw1/kxWwftGxgVQsGHSE+is+kuxxp0umU4cuEnRxyEl3LOgCeOGWzYpT9f6pbK+psp9MYGwUNf5saXPYCdAfhJj5Kbg/zWQRj5bktkRu0i7scxMNo3N/SUdWMBrjxlwXc+DBqR/Ar9KKY+WoP8yj5SPzgT5tiH3j4Xv4lFLHwZ14xfzqP6SI/+/8TDxCprFdcWbZjulRklioO90SMwj7oCAcMC+BJSByQbvQ0qFci4xb/NVsXn4aIg/zfTlv49G/4yTfPA5xf/wCH/+jl7e8cGT42a2bsTtk/BAExlzyotFY5JPaxX3A9y5ybA4Cnirz8GvXMwCAIof4JdM+3L+fyP4reZ/NIyy/iUUoAZ/OUf1xhlNW2u/zTGj1nRNQ5j4QXVvjWpdJ0l+oXNG8A+TuSgpz0AQ88znfjH6PnPElJBkbBH9Uit4qF0WUSyFWPcHmhh/HmbBOdarjrrNrz4nHAqgNst9TFzSPbWByg327VE4dVGWzr1cEKMd2b/EvTnsx4+U6pY9suKlHJCOLC+3axITxFxnzRD/bcBAiNxW/2ZCRTNybSQRj5bktkXt/ODG1UoVrSoZShjphz6XBNd+2UKFd86/kc5fzKExA/l6bYh9wJ6fxKKTr99d/zhB82S+9IB82Y9NGgz6v2ubSL6QEDiCpwArPEgVGicxZB428WPR2Uxv+dwfBxmx6bVxLCBaN3C8LAmw9slEqXz8PZaN9TNsBLy3rSTbsys+nDk0EpR/ArBO6ht457Wh0Zg/YlH9MHxx356fzKJlEw5gvBaxXWzdvra06u0W5B3uiRk6PugIBwwL4ElIHGLBv2lQf0Pxf3+arYiZoTvuRzCTxPPHufCjgbCPlZSP//3aX/6pC/62NTCAPDyZSwdA0sFMzSuAMdL4hKsPPVesmynir0CCwT7ZrZfbclt5SVme0z9J+/xW8z+knCOLm42f3rv+cYU02iH/1DgC3jc95BfMtyhqC7VFLqhDiR0TZ9sSCJV6pbUkClvx0JnSpbk/qZ4ohIfPnQdBcPdcXqz9BBdAm2eToAvK1z+yK5jhPNNJ8FO4DE5tO7aNUm1fvKBWwFkz03jtf/nryFOoLfUWvNUDtvaER+D34JqevrrRD2PqlNtqZcbLD1dgwd5IuHXFsDmNVKx/liALPd6SyfxbC5QbiyxZNoTVkjMbqJQzs+XT/d1jrfllwKGlv4opjsud0FeeByzbEPuBPT+JRSdfvrv+dR/4RtVPwJHhbohpNebl9Sz+IrOoaHBlTgBWeJAqNE5iyDxt4sejspjf87g+DjNj02riWEC0buF4WBNh7ZKJWvj6E0sCluko39Qca3rSTbsys+nDk0EpR/ArBO6g+vimtDoz4ldGE/xg+OO/PT+ZRLDYE7GGAIHpfXb/SEpWtOGf158rAA+DerXGYvqfiixSJkcxN5sMc/xPC7uDrFWVwVGaJ6V5oRlmH57l9H97M12hEsFQ4HoQazE7eGbrR7WTNgZmJ+SdEJqNFWyES8SocymA/Dva94aj/mdm/LHnT/LnksOb6uwqmlDYpCEjw3ejaC6yZe8xttBZgilS2kMmjxTfsZzVz8twmF89hyZg+Impr5QN3ZtWngRa5TGWADfSzxPjv0LZJf1GiG0Vh5vmTVROSOA6c5u8mb+UFL64GPl257CDRYhEdZoDb9kN1zGAEQ+J5miDNkTJOxxEXOm4/F2AgBpMH7YM382nn/KEBktz/W1/EftYZaHVu8Bney+bPFz1PXjefgwZXK9XcpFOO+6RVEQONXN/Hve3/Bc8VwBUcduYoi1DyRWDo6YxpJpwuqocXZbtTFLUyDudmbuf6lRjskQAgRyJe1gWtwUpXTXC0xs4EYIpQimKk71BF+FsW5c1g05KwCtX324glWIAlAROS/osHWEOiGQ66CH+GWOg94T/moxbfuHYc7Fdih/hq3Lcva+CwIujdLQB2X68OMH00bDjnPiHA6ITdFVaTOspImdDLGjX9xGOE3h+YW8N1P2VSKGRKUV6bOV889sb8+3IBTfIA/+ajFuLRLIsPN+DfXxpLdFcRiQ+YNmAhu0kSXUUiF+LuucxPxCo5ePKnLLZIIWBM1UNukSZmvq5LXhVU/feAQNbUE/AYLRCaSpZYOScZPRJ3jbun36rUxpSNasAacFLGSI56rlDy7AAOnYRHNgG7UUYuf9OiSDZUnWeVH39ATjMz3wDiRvM5q6/Txri0RhwNz+fnQQN5dP58Ut3Swp3foOq2uj055JR8LzRiQspl0txfVhG6sPirPU4Oddiy6ECN1CFRMbqw01vrydewO+PUBrAiRxH1iKbqaplUbOejxIMUyZVZFkZtBEmXPfBMF+s/f7I7+BUUKoHzLZumD38+cISTSwqcljZDAwQdz2xyJUkbdiBcA8Wkx4e7S7r+tMwOm75A7BAS8K+xj/096YLppdUGtkBx+SRG+yZ5zA988dHAg8S+gC5BVPFcsAs7C0vmZwvtNP4vN98Qf0e0iPauoWPLmg8jsu9rIi3ZNtff9QKnfzLH1alerGBdirPgjUzlxDDHfpWV0YbHm6NN+8XDlzrgteIVYHHPxNxGz+bZ7bTN/9OAE73LrWnWfcXmBLIe+3ub2uAsUnxhIcnLL0IAHBvPJNn6VoVKPvPMpV3zfMKmrdeVN/irL+UUVIKiZBsnrngoWBp6tYUmW0PYT6fZ0VcRnYy5kO7q4vzCgEArt2DXPM+x2Tk+ZwYZJ/9OUlSEBueQSk4ldNQL+0hD4vH+5aCrfDLScMSZbAZj7Geq/3mHhpij1lSox2SIAQWpWQjeQp/rkrizU/sbSOC/el4bLKan6ZuPBWawx7X4UWKYFdyRngD6iSLVLt91b1wkPV3SRMXZ4jkAqc5vgnK25EIqmvV8CYSTb9a7IGLqgJqml679JouwKgNb5ngBjgFVV//rR0fE1gXtjGUpHJKtjOs9vs0qp/xlWGXu3drPBITXhDfrcIFAo6L6DbyzXfCrVhGwNDd4DlGGxnVRLwnJ80lpDDNe7Sulgo5Ilc2DGX/zPrj2HRynuOjIl600OS3urAjp9FCijRqmY2JGB24E/h5LoGVIeuaobdbi4JeupU2RZG7vn5JvYqWYeYT7pj773Y4CSqXovdVq+VAlXXtWlSAmr7iKNUa7UMIxICznJf+z6CPq2FQYgffLWt6jaEk1LwzeN3TN3fLDQln+qazi5JVEDXaDn44NKuXi1fthGcdl3MYmkkLqyD6KacbDT4kn9jds/j+NGBcphUL9qr8lLzJWoUnkOil17CZz/2zHIausmgTMXDjVp6Wqx1qKFBeFTgw31sJA63mgurkuWTMTC3Gxteixx4bpHFROS6pQ2lpRFTWaE8mBn2OzcLMtRJZBCEra0o40gpPowE/0hm+U8XExFb+O3BcEafiMmFn8RVNJBkw8/pykZfLGXHtPNEtWuGiqjx21npjYRa+uL2AngJOnAJOnAEUOKZmyvuCSdBgRvgyj585GTGw+G7ROqNNP9CeEy+sYCvf6CXEyrOl3L23eSaEnPzOj5mnyqeAv1wJn/+OI4QOsV+DhXU9nd+8yXrS2wwnVkH0U/hAoFHRfQbeWm38ZjiP7XjmfxsyzHGbxuBQVOkE0X+yEfrEsMMawBdUs4Sc4oC4VMzAp+UTbd2txbyt3+RpBNWcSpnOBaxAwIRjWSAI7qwI6fRQoo0bi5+OhqCf1vH/00Y0gluolpKyhCxVRXE2zb0KLzrCYcshEpGAtB5crMGrcV/1J/+UbnwH/jI/p/+NGuw9lfv8wuDTr//uaneR/qju0f/w1dKUFe31Pj/H//hyt/TFyP5uq6VFc5vqiLUeQmHDdt/z/2XiMz/8Of3/kPk+px4d6P112h+tFQGzcGbxHZG7X72auSRMT1MoH/Kc41uRe+0lefrGdMTCVm/QsAPSd6QLqgEThLvhI/CR+Ej8JH4SPwkfhI/CR+Ej8JF9q4YCteRV3RiYFd2X9MxrCtctES4wtu0ky//sK4y64ik2oC2/Fe/+duG9mP1ygdG945FZPUutEx54S1lxVRkVHEdEZwoGf0nokeczDInYwjLdkc+82MLStAGMaka4Q7SpHCSOQX+Q/8vDdCxx0H+y9Z6qtEo3+K2hdFmCbBX7tAdAfhA/nYU8yFQnW3Hn2URju+9Jtomm8j8JH4SPwkfhI/CR+Ej8JH4SPwkfhLbpJeFi61x1IJP/arCMxlvTzcD4N54zZicYaXaVanVTjcSv9DbhqpCK20jaMgMsZ4zGa3inhr0Quzri66kQyCbfXjYyHdhNzKmO/lnIE9QVYtDMRX7efKliJzXRBkDMPJfqA8JlfJLjo8HD2KgpnckZIKlEHSPgc9UW1uFiBtbEj1iY96yqEPJKrV/yLvnyh03JBoxRIrD85v7h0gbkQT7wo9uLh/bT+2kP/BvNDLW5TtVq0DLXbaEWDYOt/Pgas7UMd2iZhE827OF/A3eDUJv3JnxKBkpqmGoCVWNns+2HMRXvwX5ALyh0GRCnEzClZAZ///tS3/3HLfJ7ncIz7tezWVnyuz9jrQuHQqLRXIj4jzSlzaXN497JglXWiOWRszFJAgEeAGdvuronv0aP/+tJMMOlBUXvMZm+LpBgJxSG3l0ZO398NHywB8L9/K6m5QIcO4Oje37KcEdpeCdhmzLnqEB6h/obXcUWSTdJb+n/nKNwVQf7w+FA/+BxvM4b7JjAEXIK/Zrv6WqHWVkVgqoHV+z0+/7Gbnd4hcr5/wr/oBG5UnQc0WY9clhKVpGtoWkqdI1+cq1VRQiN4uBJ0vNNcjx9aNdn6AdfNnpi2HDZGIGvlNKli9ChBzK5jm7a4U3Lrsfao9/3MOCJ6yJLMOQsrAOM1YYvC9VisIhQu5s2T9YiErEp0XStJhYJCyWQcLIZe85qKy/FA37LE2kIs4Ud4WljnM2ONf8UzxWbGK4yRtyN/TW+ABvnadHL9W0RYILLKbLDI23Mbmk2ypHp4IToxX3chiGfmN396ew/shhL7w229Il7UrgRpgMkKscW2r8qmVsZf+Dmebg2qHkpynZrEHysyrY1tcnVedK8wxB+LpaQbQYjqI5aUQ343uW2EzcLdZY5JDcXa6B/TDHy/JnvV7RE9JaXY76W8HLrunUzMhDFT8Qg+vrGvriBb0u2NwwX/p7mNblTmT8KkL+cpOth7Mvj9aGha5F45Ys7K7TlCBqNevLL+aH1WzOgDUAo+qKYPp8WT63ThTNBu7zEmvoz1FMVih2l0c5oO18lXdUe72QWf/fKvoNMO1rzpmTcAHlxw4mDR3zoMxthj8RahA/32DYB4MqN9bAp3M3dlJ4rOteaGHIfBPHoe0xbLpHFf0vaaZ+1gvkk64Wkq6ZMxq7ckg2yk+vz2MtSbGfemLt9vXfGAk9mHgmT9fOpUbq1BwusvkFymXIHU42+yBWBvM2ls4ScZwe/khHp13L8K94NQm/cmfEoGSmqYagJVY2ez/wp2TATwmQLzlpCnvIv96OM5DpHc/uulIOAoe//NAG/pI6NT74MnAzmcOeCs4o9B+iNsBWb5yyvsqH80RLsWpEPyIBk8jK9mZ7+VmdXDu2TF7VSdUgVz54gEZ5QHPcsA4qpkxlNibG5cV4fADj1zJ0ePRBdFQpdCTobxPgoAzjCp3XOEVvai1YVFJ+5k7eYL+4nQkmp9erL2x4tztbapcGXg5Ahsw+aC2TA7vYX8SCmPNlceEHL2Y2NhbHBgXPmcM6+IiHVmSUBmNp0uBBy2XnVlPXwf6EpwRo3g4N21R38kH4HisnESP7gSTdFAp0EFkZa0bvNWedr2Yhjlq2LTCL3CdJezExW/mYQsbuog/qZ0k8KAPBNA8E0DwTQe+dLuo+266xRWDsFpPhdB+2U4p1vPQkxIATvRKQdRQdRQdRvaZtFwTivGJrBujdKiyISJZwzL8GpisUWmMUdgs+3RFCqFf5bOh75+UuadSM7e0f7GDG0NkJgH19wlYfX3CVh9fcJWH0oOGG5JvjQjO/gmoubyz0DuHkdVnGdYFj1g8IkE+d2OZmQ76tT842OSuym/uPCsXedbVAg5Di2tYjbWyNFUvZeE7pk1hF+F+F+CvL/PWxaPVn6J551tUCDpvUXQSxF2yANCsBomIR0WvDyQelEtJgxlzk/iFYHXKnHlF3s4JByE1c6c3lvdJxiaqBUYrzFQKjFfcdT5mtjozYGNKsJvFZIaS83giDmoMZszV+jk4gBAjScmiERGIMeMKX0YL9FCO0OISdyAxB4smm7ZeOA9pcuLnphQMp0HVgPyPPr6lxqNRJVZ5uMNe/xbpk0GO2gvcEOAEbZl6zq4jWXTL+f//CRbmWzrTBmaqBUYrzFQKjFcwRE8AzkfBsZsBB04vbJUhFrMKM85Bal7OVFU9omwPIxFh3Ro/MCOpOniCvrRoO9xQCu2QrEsmokWPxJkMlycedInVB26z8LkTf/qLNb4Jh3BePVa8ZSjZ0kjgFEggXj4kQCbtEN15rLd5uJLamo6Ydg12bhmTP2Pi7taRK5H/9W1jatdGiWcAx7oJ7Ac+4JcfTMinDOzHsKACfRjJ8oM7jMeGR9x/oViimu/p7S/NagM15TlDiHHPPwoegTZoCsTiQWF3XN1k5idN9/9HYVFAYuT5IX9JvHPVuRyWN+3EL3e/KQ3nFOO79PnqVuLdlzF/hgnanFMy0rg9l4gpBRTVgwjn/eXLRlOY25FjauK0/w2aX9gjuz2qmCcX3uii3dthtsKmkG89EEFk+QChriqSvFnebPgA/qLKM1c1AphmRXq9UP3rWrLs0nWa+2HdGI14VMpGk2zLqzpVNyVY1fQqHf9kaieVcc1T4th0KAWs8rrCqM5W9yYYBE4MJ5+V4tZzuNMIay+ZoQslfd5QaP+XDDsv68wSi5zyScAhHDB2dtKd4WO58g2k/J59tJ02h2lRN83NvjtGJ1P8mMmwTg9EZp2R2iL/f74hOQXSIx83rqb4Sl7m6E4VsFVMSJfxxjeZGq+pRT5doMWTimvSBecQ3TpWybWQEsdTrEeh5j6nRM9L5fhRoKdEylV3JkbNOHLL9ss4DGOXYafyWsR7hlpqpZiLSeaGMR7UHwDHCMcqoO3IGVXWx4Ryfzp6nSc03SZljtcVB7GnO4P/LFAkd2DeqkFZU7ykeVrdObaXNxo1SLboWXNUDV7OGbcNEFWSlHWLTC03voFzDfiqRZggP/TFcM7d3BsXw4wrxJUhJexXjWl/u3/+Zf94AlIrKOq6ll6Skajggn3dCpErNTOxTFjxyENoKkaJkE6HGDTWbBNejTd6/TyO9ktRRX8EgxM1Gj/HXNpEPT/HYLgomn/1FiaqpEqAu6UbNXd5nGaN60IjAu6H1BWW5Zt063bIHjyoYWoYOIHnAXKNPHroWUMJ0UQ881RRBJxsvBAgLpxV60SyXM8zB9NFfGnKfsyKUOcGbYMKcxrTA9imghKUt0FRDaFQx08YtgrbwZfg0qS0szgeHZb3vfrcFN0hMm3kznl1yAAKB4BdbANymAFYVmeeJUkdFjrIH/v2BUcTD5U+bsGTGYTumKdrTPZ0v7dFWMS5M/fito8FQhKTogfoLAFnhGiI8oBhy3LFapvg/tJA5Vyh6f3o5pUjcFeUF8VxeH8wimOjjfRa4Gn+zzJMXOOskTaQvawHGRu2UtwfztOt/Zuonhj3E0vBSSD+ZiyZLj9QSyz4Ctvp7e3EB5dZuFKFSUL/XJPCKA1rEdSlSVOZ3C9XHY7xYTiCp0AvDvzf2aE/FlAkFAWNkeJ7LIKsdTI5pB9QjlnOenJWmek78mGG5yj0KHtI4XL/pUnfWXJk4+NnRnBJJDCTa5SKr2A8/VkGKycmbwwItKk3jvfEBf0Ca3SkeKm8XWTqwkJFFRHajXz5E/AhZGA7MQAGomBSNi2EWXxjHfVq2FI0iTfL3DKcz6aTqE8ONs3aUi5897pWXQmj/xqJChfZNbkm21x8DJgqSS3DqZofGHZYdnbmz2XYYG58L587c1ydem8OOC+/+bmwYkVSpl/lD0o8MIVXwt1/3M1MS6rn4fu7TXbAW2uIVjCvgNmH3jSrSZM+NqjiNrxd7wHE3vSRWdyn8rW45vOpvP45zlb+MbpZVwvRDmJpPWOFmyZ8besVXvhI517PrxXfuIpMHzYtyBXVbHvW7vqGuWrA7JKI/jmazcsEi7OuX5xFaBw94g8spvAMaMB8npvZeuBAFqoj9NlbLh+95Ir/+Prdz4IcuBCTnqtydUv1JPo47hx/MunOzTMw/UtrFMLEZE/5TCSvu3fyxfhi/lT8jhxLkStFIj6HMweuLvpzdk7y9g0iEMQ7OhW4hzb34eTX9ebbvIxfeqt9S30FC+XBrAp3rbiyw4ivcB31CHADnvxWZU/Yh1oXB9hv4Ws9ZKfhSJSJgjvAuvyUqH7o5gvuUH9AR5oCydI6JffQz4bMBgEAGpJ6xZalgr+F+147utegeG2Lg/P8VdbQa1mKb8xu38mGgnRr5w8Ix8XVQeLBHfEO6PbkZFpx9T40+CDfNLzlm0Sq0lf9sZ2gyPkuJQSzT4u5trE46RbbflYm/E8KNZblzYZoADr3YDkV6E5wKM6zsVIFVgtoWUs8z9wr2V1vTnk005jiGxQAS2iG8UJYju9N/TelsLWvJ0NOB7kxEJ2yuMW26JmwcqB6AhL28HpxxISkphoPhDWWK0S7apNW3PIdRrqf93vvNym6KKYTeUgRSn7GtsvCaRP6AAbM3LEuAQJjr629WjszjtYZw2Yww71w5v8wuBqgDwV3QZ8SiIioRl6Lx4EIbJYUY8laelSQsUqbc2eaYZjsu4yTBHzuvixGsfuQWdsVYA69Qd8tvYkc1ld5Cgx/crsjdk9gzi60c/u5eYs661LgDMwkwHuoaWzd0njGwmlgf9XL2NAYuFPhbsJG2v4yojjFRYWcyTeLnSZ15lRqAhGL5WpRpNgBd0legqIxGMlHwOakmGpxpV5CxzrNFcTMhGQ3WfqOKmmErt0YMzCgZToOrAfkefWoHEUgBXud+9LWC6ehj13HKDZIEqinLkyS+x9VW21+RcfjZGcQNq0/97ggv6RQ0B9mOOlw7EAdZKBrPcsLOQnXCy3ann6jipp1qeVjjAfhmwwhwOeAVAjLFWUYzpF09FIbRODI2nzLYxZqgbqClNNhoH0sC2phOu7gRZzX2dOYEN6pI/OHtcv/oClBQfSZTsvspD6muE7FBRe8D6qeVVnCPxaCivE4OMwz6WoBFcnSVH3hnnc05M48w+vAi8qaGoq0QakSU60QNV9HzGMOWhR4+rM/mF2k6zg0dfhBciBSIlPoHQGak/PF3nPi/iEmckQGyQ2Dl4HMhdJVLj6tTVb4On9MGnXXW6/bA2nT+ndy+BuFPSXYkv6CjxigS9W/fSKA0Y0qBOjpnjpw4lyQMi1QzpCB7SXHFsmUv5g7im3uwQfRTb3YIPopyKj7DZbveCEas+Xclr/c3D1ln7+GgEBASJXBjplAYwD/wVJeraAMC34BHMjDhsa2XCNGKJup9OXVqHrJc1tkxpYWEHXRqloypXeccjTYaEIMluzNEQ93hcgNeAVChwSdyobyclUG8kpdkNrutMq12RMkzM6QOPCLvdAJ4SiYEQk47wAvmxdT26y/IBzQra8mVTMl7RuSRn1u+YkKiUscnVN52MJfA0Cf3B4UDfOrld4d0fUhfxqxPKx9uEaCZ2Wo+tI9eGQpAO1nn2om9lH2ZFqVHLRnUMqmMuV4ntSBJsxPxeQp1XfL7wRIHFSPWu7/dm/WsIMX4GluRxXeo7+qeB7RCqL0p7jvlvbb7X1uJZqAZaatIU6thrna2/18CcsJIlLAgkOPQMLmrc+0vu3ib8Sfgds8FawYTo3ePls1RU1kLxrJKQl2K756EtwrReXJVuHciPfGCm9IpvDuNmh9Cktb44innqeoCNKdWYNRvIqg4myZIpU+hapHV0m1K3+95xrHBfypjMnLgz8xHSwxefytBS0sz36Inzcfibjl//6ybVsL8CY6vlc6Ql4SdXAEx02K+AltCtdCh1PuZZyyBpB/PlhIfMAfO93FKDb2NxQc+a5b5yCvJuAmfr19TO+ardTnCb904KJn1UmQallXKHqA6nbWxP7umdA82iSQP3MNzvd3NDYp7Pl35nJTrE57ptjfKnxMasllcjr8T8xPxaH6GOv7a+croXXn/AXdNJ4oixrknBmrHLYdwwzWeiQNJQf8MqG7fcTYT9hApz+4F5U96lKO+J57UQtfKaLUZCjBrgFsV29AZaSbB8alrFLXRMvaJfuYI7Rq78X/LxBv/k5lO3OmadxxFR9MRUn+rB4eXoitItfjxNT3mp/w8HYvvHNzDoVgvyw8tfjuhukZ65JCLCkb8VcLaA99tHzWLSfLBpals8dtPyEL/RkgYjwOh6xOQSYk7Io+yNSXhbHFB9IlvBeykPXS/BUe/Pd7NGo+JtwTrDyi7RobAQBADX6OZJMSW4JJ1x7GPSchDyKvhKAiSPn5LiKymffE3kulgUF77QoABHi8I4pKdD/5CpX7tDyidbyAYMuBUyh97AB6FAk0wqDtckA025bWfIQ7dWpvziUjdlAwnvFs9iSnPT3BwnVE/fkO99D9AnYHm0OWrr07ZCUDp4cWPVEcImEoaH9Io1YYWNJmoxjsYMwi1lUrM3d0IGDSxDvB+nTAxfi6DM0CAfrO/PizXMU6sr44mq8ebGbjNnJjSMWUyLdrOzYMkYG/43JOrs+8LyO6/6uM8CUsZ8Vol4CHw3u5OfYkiSdTAmDxXmG8HJ43HPOjx4U2q96duQk2hy2tgTxLHDvrCoMBcKoZ9dIkly3xPJxgbfF0d5LeUnypcQw3laq+lvZmMlRgCx1J4cJx+rXG4nHhlpVvcGALysPN4skW0F9hT8smSuE2dNJFf24oXnHvcSHSTsnTjz/EP6Fjl8IAMQ74jayTA983fR96VLwrOwpt8SxPjll0mVG3dIFzwUpaII6Kqw35oUUhlYHox3sELuvGfGYxyY0jFeLhXBOP+Pbmox5DPjF9GLUmWi9rY4HmdyZAwd2ruuzNwu5BZ6bja86a1YOOyOM/8XkEIX4/2jyvIRtHUrJdeTwJ7VTdw7wLaq7lnQQh0UEbkyeYuKuveb/+sPWQ3D+YCYvClnZx078UhmNiRMynbQxEzYJckXQRM53s2SkUa5OTl9DS2CVQ2pOUWwpjgzQCXF8jJJZiLjxW+7I7nZqy8bwiUuPerixCcUV5QlWvcdk8bogygy3z3liFfAh2pbZ2zFgdTJLgWgl15YeQBBvR8J0fJmK3S6YSfbSdtkE5RmAMmyEKNCLHSKNcnJy+gkjktbIi6V6LaA+ka6t1ZzhbbytELGClfYA7oMHA/V2p5iW+NgqchzzicriKrvyLkysjf0F/FFy/oB5jriotRDG8MgPlqB1Zy6BDBfS1CX52WAK+M3A1ZjkU2NQVrMiMtHp9lnjN0RxJPZXGrcICnYj5kO/UvlSTPkFqj7PDk7/Cb2fj6ITsK5IAttjheSb+Ev3B9jrXPaSGzvajk9HQSIlooiEtWpTw7WX5G4gHNGrL/zdotoDAs7o6mWzjuGN0ijXJycvuVeBTGJYf4YJjapkrc0B+gESglngU7jOp4+Ct65WTew2z33XpKrBSuZQ2qUt1v5+c8qRB4AsvHBLS0aN46QKczCWagFKCHVtoW3RVNbfdcuTNs+v8z/BlNJk1AJZB09D4JvILLvzNhyPP9CsUHJ61Z5G07oZXuuFNJbZlS733J1RgKyfzKq4e+EVdLgRuntDMazQXMpjA51/Wf+c9TwylFqziFv9zPUYw33JkzYihtkMHosJyrFQ54E/UpKDOzzNdNrAD5na9zzxtIo1ycnL6Tybt+tYLmdmZrXtcHwLrUiaaAYR9vWsb1HoXQG0XA8cnQ9AQBsDWtgbNeOPCMQXABcB5NFQQDbNRYioKscuQRdoKY05D/jv0WdbqaNKiYgx502rakQPPdZpR+iLevBDmiPAMgfCi+L77WqkqFe5MUr7TH0UJIjNFsZRjsWwhimNl3jq5BXZWGeasQNnNGc2iNVCJ4l5e4fucnwnU9iYOrUnF9bPoEEj5U5Q4Zxo2YECYviTWnXXRoPXmdE5LI5VcTfztORJxMEmbH2WcmR3868AYA8Vsc5uYHEKDRCTZUT+Mc6VDs2j5MXxOD/haYAS/Bsao3J0yrCsIT9QaRLA+77bxKm0DaSvdFC+jNrTsXmfgqb5wltIWGx3+PcxnwnQ8+rMm338GVDnNFufcd+zECoaRRrk5OX4O6pF9N2hgXoorYF34cIIh3lafxyGx1buXhBrojmJE3RdzUHzGW6Qx4BjpiNqsVJkab0OKne7HRF9Nuo0Mskk6nbMwvwxfHDhYTGU/o2DFy38pBdce46kUE2ZEYWJc/OOwJfiM85xxHxIrIl/hsqZaQiNpfbdCfCB//zCYPr7ehLB0AL7EsPhplgBLcXQ6KHrUl/ehGKCTOb+t6ZevS1OyEChGdK+plLPDzPA/XuNx9/Vu2n0Bkf+QDwU0pOz78UffYvjn1IDOH2yPaiia05O+SsDT6lKZwPbCXOUKvbB6cvf8gRo7goG0AbiKVueqWKcWwxEiuBSunwiN2bBxNRpy4lz9qpafJd4Cc7G7eymS7mdmFhArAZcVAaAGCo6t+Ao772xMXYgzIQ1gZIxvuRmaUmye6tWH3pty3EdQYVSo6CbiZ9+klu3sIyHKxR2lNEXqgdUS7UsQ9Z8fF8HTcZu++OpFynCIod60e8lk97Ioi14WYXc3RHvwg938cLkKh1Ru56NAL7MFsHQG+PsTuuILHoWWFmQu/HF4ayvOj5LTuRbRGTMECHJYO+4f/1LMRaDSkYqXJedAnP58vefRHBVbCBWxNkg9TD8A0EVcHHPA5Ic2Vus6wYVqqO8Eq0qcsmQ/VGrfQsGtulCf+zTqvia8vcShyyMEYIGVk8/zMuCndjHdZPGU1vdDzulPXppbpS0+TlFSBkukv/u8JxJ/cb5sRFrPCMhxN98Wfu8lehIuEn9rSrnFsP0RdQi0w03LNqTCGZEDj98OBONxiayH11O6Esuqzk9mU/0kfN7uivr7S/M6hulz+TPfv00Kft5qU/ca7Wt3yrXIptJHhycDGExuWvjCdEh8rvNNzzAkaCKXhFKxJ0CeRgME9AnAnBmTqxL5/gzFEEccjwADHlNRxoK4lIfet0kTmiG44/Hlx8IQJEujiHCm5IVX/otIo1wSg33n05g9R176RlKtZtCdgahgNUq9rPaUVZbbjSCyzJnGMTG8FUmkqNQ5+HZyW7K/yZzaMHoxTcohmzdBlpYdjQWbwibZD/eDwOwgkzSXK0pzqH4bCGInpGSNj2wsWQYW7vjcBtJ3A2IYiOxZlul++fMwrv/+AqBbtTzyvHYEZnS54iV+tApICjhiliDBash0T2W3SlopLeRNBnuPwPR3p1Uy7n7kL/ShfS/7PxToBFVm4DJoaCME+ME4i1q2ZE4ckZwN2fTfl1Jn8CNTLnr4zSdo3VTCO7/cPmrOzxEBzqspc+iNPU4Gr/mnGvk4c5Pv+lGCUT8EgDcoM/iRzOJUZZX9DbBv40e++7FyRs/ExKfcusuln+b3gOKDp4RwvCYA6KIdIhx1w9MB0OjQQBleGS3Khg/93lSUPBMi171O+Px0QWD2ezo8vgys4E1724jkQZP1ID8g3ym7Tca4Zr75pQF7xQqcfHTcW51kO4FDqODog78u+wA6Qb4S7GMHoZE0SrxXVLh8fkgHSd7RO4yrYwuO5IAOk7345hfCj4mEdJm8kL4UfEwjpC8/4/P8FNzPR/fgpt/pZEeRHkR5BCAGyoAsVN1xyE3xNpV1wDL+qhWBWwpdrUOl9AcXTMVRk7EoCGmxKhXrHSMFvAZU9WyyK+ahEDsVuF+eZ2VN4Uhddrm3AwrUgrLyl/cAQlOcIpNmZ609RKn1KIOpNa6MkuZohFICpWVgubhH1t/iZR/hy3vOIM/0Wa4bs3MA+uQ3mZtbceE+aR9YEkPUN1QAMMVdnAL5vlMPad/c+jyJfyRpHlZOPaA4cFW/d9NFM2X4y9OsjapgYzRJTY6CuftOtVr80RCLbeUCrnkvbtdJY/SZWUZCQ+ydCdruDchhobjhcrkMo3PS813SNMQRk/laqB+Ip0AiuBvMJwN5hOBvMJwN5+0O8k9OfVadPyQDpO9oncZU3qDDVA6PSHBIJz+fH/BTcY/f///M4oo8APqDw+VunEywyk3+IZMWtj0o+F09mhXhOV4T4bGZqN3l39PKPuPYliKqjhKhGBY8uCBXAB7/80fHZr1ZOMtfaqrq1CmvCXqsAuLMw1HpgTlutCkiYzXQV/9sOX0PiFEsm+tVaKLS25OpZsUuQlyi5232tcBj5itNdl4jqCAqlWC5B45AtItumzTBSNE7iUwV5agJwmAHn+/5NxPczs3CKnzGb17cC9yM/CaHfNk3ceEwD897RkuHnAm+YAdboy34y0K9A26Pu1V6w/8C3AUtAQPXugd4yrY1mI7g0z7bGH8Uj6TrKYVhXGWN5DBmdwUgOd4GvqQCd7tmf4Kbfxn+Js84gA)"
      ],
      "metadata": {
        "id": "4TYgnKCTiJ8u"
      }
    },
    {
      "cell_type": "markdown",
      "source": [
        "For our classifier, we will use 50 estimators and 10 samples split. Additionally, we will ensure our random_state parameter = 1, to ensure we get the same result as long as we feed in the same data."
      ],
      "metadata": {
        "id": "8OAqwOao2P_D"
      }
    },
    {
      "cell_type": "code",
      "source": [
        "rf = RandomForestClassifier(n_estimators=50, min_samples_split=10, random_state=1)\n",
        "predictors = [\"HOME_TEAM_ID\", \"TEAM_ID_away\", \"PTS_home_rolling\", \"FG_PCT_home_rolling\", \"REB_home_rolling\", \"FG3_PCT_home_rolling\", \"PTS_away_rolling\", \"FG_PCT_away_rolling\", \"REB_away_rolling\", \"FG3_PCT_away_rolling\"]\n",
        "rf.fit(training_data_rolling[predictors], training_data_rolling[\"HOME_TEAM_WINS\"])"
      ],
      "metadata": {
        "colab": {
          "base_uri": "https://localhost:8080/",
          "height": 75
        },
        "id": "GohzHixGqfBo",
        "outputId": "ac34fc9b-7acf-4971-9571-57897618feea"
      },
      "execution_count": null,
      "outputs": [
        {
          "output_type": "execute_result",
          "data": {
            "text/plain": [
              "RandomForestClassifier(min_samples_split=10, n_estimators=50, random_state=1)"
            ],
            "text/html": [
              "<style>#sk-container-id-1 {color: black;background-color: white;}#sk-container-id-1 pre{padding: 0;}#sk-container-id-1 div.sk-toggleable {background-color: white;}#sk-container-id-1 label.sk-toggleable__label {cursor: pointer;display: block;width: 100%;margin-bottom: 0;padding: 0.3em;box-sizing: border-box;text-align: center;}#sk-container-id-1 label.sk-toggleable__label-arrow:before {content: \"▸\";float: left;margin-right: 0.25em;color: #696969;}#sk-container-id-1 label.sk-toggleable__label-arrow:hover:before {color: black;}#sk-container-id-1 div.sk-estimator:hover label.sk-toggleable__label-arrow:before {color: black;}#sk-container-id-1 div.sk-toggleable__content {max-height: 0;max-width: 0;overflow: hidden;text-align: left;background-color: #f0f8ff;}#sk-container-id-1 div.sk-toggleable__content pre {margin: 0.2em;color: black;border-radius: 0.25em;background-color: #f0f8ff;}#sk-container-id-1 input.sk-toggleable__control:checked~div.sk-toggleable__content {max-height: 200px;max-width: 100%;overflow: auto;}#sk-container-id-1 input.sk-toggleable__control:checked~label.sk-toggleable__label-arrow:before {content: \"▾\";}#sk-container-id-1 div.sk-estimator input.sk-toggleable__control:checked~label.sk-toggleable__label {background-color: #d4ebff;}#sk-container-id-1 div.sk-label input.sk-toggleable__control:checked~label.sk-toggleable__label {background-color: #d4ebff;}#sk-container-id-1 input.sk-hidden--visually {border: 0;clip: rect(1px 1px 1px 1px);clip: rect(1px, 1px, 1px, 1px);height: 1px;margin: -1px;overflow: hidden;padding: 0;position: absolute;width: 1px;}#sk-container-id-1 div.sk-estimator {font-family: monospace;background-color: #f0f8ff;border: 1px dotted black;border-radius: 0.25em;box-sizing: border-box;margin-bottom: 0.5em;}#sk-container-id-1 div.sk-estimator:hover {background-color: #d4ebff;}#sk-container-id-1 div.sk-parallel-item::after {content: \"\";width: 100%;border-bottom: 1px solid gray;flex-grow: 1;}#sk-container-id-1 div.sk-label:hover label.sk-toggleable__label {background-color: #d4ebff;}#sk-container-id-1 div.sk-serial::before {content: \"\";position: absolute;border-left: 1px solid gray;box-sizing: border-box;top: 0;bottom: 0;left: 50%;z-index: 0;}#sk-container-id-1 div.sk-serial {display: flex;flex-direction: column;align-items: center;background-color: white;padding-right: 0.2em;padding-left: 0.2em;position: relative;}#sk-container-id-1 div.sk-item {position: relative;z-index: 1;}#sk-container-id-1 div.sk-parallel {display: flex;align-items: stretch;justify-content: center;background-color: white;position: relative;}#sk-container-id-1 div.sk-item::before, #sk-container-id-1 div.sk-parallel-item::before {content: \"\";position: absolute;border-left: 1px solid gray;box-sizing: border-box;top: 0;bottom: 0;left: 50%;z-index: -1;}#sk-container-id-1 div.sk-parallel-item {display: flex;flex-direction: column;z-index: 1;position: relative;background-color: white;}#sk-container-id-1 div.sk-parallel-item:first-child::after {align-self: flex-end;width: 50%;}#sk-container-id-1 div.sk-parallel-item:last-child::after {align-self: flex-start;width: 50%;}#sk-container-id-1 div.sk-parallel-item:only-child::after {width: 0;}#sk-container-id-1 div.sk-dashed-wrapped {border: 1px dashed gray;margin: 0 0.4em 0.5em 0.4em;box-sizing: border-box;padding-bottom: 0.4em;background-color: white;}#sk-container-id-1 div.sk-label label {font-family: monospace;font-weight: bold;display: inline-block;line-height: 1.2em;}#sk-container-id-1 div.sk-label-container {text-align: center;}#sk-container-id-1 div.sk-container {/* jupyter's `normalize.less` sets `[hidden] { display: none; }` but bootstrap.min.css set `[hidden] { display: none !important; }` so we also need the `!important` here to be able to override the default hidden behavior on the sphinx rendered scikit-learn.org. See: https://github.com/scikit-learn/scikit-learn/issues/21755 */display: inline-block !important;position: relative;}#sk-container-id-1 div.sk-text-repr-fallback {display: none;}</style><div id=\"sk-container-id-1\" class=\"sk-top-container\"><div class=\"sk-text-repr-fallback\"><pre>RandomForestClassifier(min_samples_split=10, n_estimators=50, random_state=1)</pre><b>In a Jupyter environment, please rerun this cell to show the HTML representation or trust the notebook. <br />On GitHub, the HTML representation is unable to render, please try loading this page with nbviewer.org.</b></div><div class=\"sk-container\" hidden><div class=\"sk-item\"><div class=\"sk-estimator sk-toggleable\"><input class=\"sk-toggleable__control sk-hidden--visually\" id=\"sk-estimator-id-1\" type=\"checkbox\" checked><label for=\"sk-estimator-id-1\" class=\"sk-toggleable__label sk-toggleable__label-arrow\">RandomForestClassifier</label><div class=\"sk-toggleable__content\"><pre>RandomForestClassifier(min_samples_split=10, n_estimators=50, random_state=1)</pre></div></div></div></div></div>"
            ]
          },
          "metadata": {},
          "execution_count": 11
        }
      ]
    },
    {
      "cell_type": "markdown",
      "source": [
        "# **Accuracy**"
      ],
      "metadata": {
        "id": "ASDHHiB71cnP"
      }
    },
    {
      "cell_type": "markdown",
      "source": [
        "Finally, we can evaluate performance on the testing dataset. This will be done by comparing the expected results vs. actual results from our testing data."
      ],
      "metadata": {
        "id": "9zouXN_giNcL"
      }
    },
    {
      "cell_type": "code",
      "source": [
        "preds = rf.predict(testing_data_rolling[predictors])"
      ],
      "metadata": {
        "id": "ifFWR2IjrWr-"
      },
      "execution_count": null,
      "outputs": []
    },
    {
      "cell_type": "code",
      "source": [
        "acc = accuracy_score(testing_data_rolling['HOME_TEAM_WINS'], preds)\n",
        "acc"
      ],
      "metadata": {
        "id": "JWvgAf3Irrl3",
        "colab": {
          "base_uri": "https://localhost:8080/"
        },
        "outputId": "312a8952-dc37-4143-9892-13ac3bb2a23f"
      },
      "execution_count": null,
      "outputs": [
        {
          "output_type": "execute_result",
          "data": {
            "text/plain": [
              "0.6224489795918368"
            ]
          },
          "metadata": {},
          "execution_count": 13
        }
      ]
    },
    {
      "cell_type": "markdown",
      "source": [
        "Let's look at the confusion matrix."
      ],
      "metadata": {
        "id": "_Sd7Wlor1fav"
      }
    },
    {
      "cell_type": "code",
      "source": [
        "from sklearn.metrics import confusion_matrix\n",
        "from sklearn.metrics import ConfusionMatrixDisplay\n",
        "\n",
        "cMatrix = confusion_matrix(testing_data_rolling['HOME_TEAM_WINS'], preds)\n",
        "\n",
        "displayMatrix = ConfusionMatrixDisplay(confusion_matrix=cMatrix, display_labels=['Win', 'Loss'])\n",
        "displayMatrix.plot(cmap='Greens')"
      ],
      "metadata": {
        "colab": {
          "base_uri": "https://localhost:8080/",
          "height": 467
        },
        "id": "FnAUEhll3vJT",
        "outputId": "05264b45-07db-4e51-a2ce-d20d31bf314a"
      },
      "execution_count": null,
      "outputs": [
        {
          "output_type": "execute_result",
          "data": {
            "text/plain": [
              "<sklearn.metrics._plot.confusion_matrix.ConfusionMatrixDisplay at 0x79214ce1f640>"
            ]
          },
          "metadata": {},
          "execution_count": 26
        },
        {
          "output_type": "display_data",
          "data": {
            "text/plain": [
              "<Figure size 640x480 with 2 Axes>"
            ],
            "image/png": "[encoded data removed]"
          },
          "metadata": {}
        }
      ]
    },
    {
      "cell_type": "markdown",
      "source": [
        "As you can see, this model is fairly good at predicting the losses a team may have. Additionally, the model is only slightly reliable at detecting a victory correctly."
      ],
      "metadata": {
        "id": "gbu2jjCS6ch7"
      }
    },
    {
      "cell_type": "markdown",
      "source": [
        "Let's look at the feature importances and visualize them."
      ],
      "metadata": {
        "id": "4LdL-59_97GW"
      }
    },
    {
      "cell_type": "code",
      "source": [
        "import matplotlib.pyplot as plt\n",
        "\n",
        "feature_importances = rf.feature_importances_\n",
        "\n",
        "sorted_idx = feature_importances.argsort()[::-1]\n",
        "feature_names_sorted = [predictors[i] for i in sorted_idx]\n",
        "feature_importances_sorted = feature_importances[sorted_idx]\n",
        "\n",
        "plt.figure(figsize=(10, 6))\n",
        "plt.bar(feature_names_sorted, feature_importances_sorted)\n",
        "plt.xlabel(\"Features\")\n",
        "plt.ylabel(\"Importance Score\")\n",
        "plt.title(\"Feature Importance for NBA Game Prediction\")\n",
        "plt.xticks(rotation=45)  # Rotate x-axis labels for readability\n",
        "plt.tight_layout()\n",
        "plt.show()"
      ],
      "metadata": {
        "colab": {
          "base_uri": "https://localhost:8080/",
          "height": 607
        },
        "id": "oFV4sG0g-EIG",
        "outputId": "05a7c456-81ab-41d2-97e6-26a650426dce"
      },
      "execution_count": null,
      "outputs": [
        {
          "output_type": "display_data",
          "data": {
            "text/plain": [
              "<Figure size 1000x600 with 1 Axes>"
            ],
            "image/png": "[encoded data removed]"
          },
          "metadata": {}
        }
      ]
    },
    {
      "cell_type": "markdown",
      "source": [
        "As one might expect, the team IDs for either the home or away team are relatively unimportant. Interestingly, the most important stats for determining win/loss are the away team's stats, rather than the home team's stats."
      ],
      "metadata": {
        "id": "8xCNKbkyCHpp"
      }
    },
    {
      "cell_type": "markdown",
      "source": [
        "# **Generating Predictions from User Input**"
      ],
      "metadata": {
        "id": "Prrerc5bCTws"
      }
    },
    {
      "cell_type": "markdown",
      "source": [
        "To prep the prediction section, first request live data from nba_api to be used in prediction input"
      ],
      "metadata": {
        "id": "f_XN-H1C6i1a"
      }
    },
    {
      "cell_type": "code",
      "source": [
        "queryRequest = \"https://stats.nba.com/stats/leaguedashteamstats?Conference=&DateFrom=&DateTo=&Division=&GameScope=&GameSegment=&Height=&ISTRound=&LastNGames=5&LeagueID=00&Location=&MeasureType=Base&Month=0&OpponentTeamID=0&Outcome=&PORound=0&PaceAdjust=N&PerMode=PerGame&Period=0&PlayerExperience=&PlayerPosition=&PlusMinus=N&Rank=N&Season=2023-24&SeasonSegment=&SeasonType=Regular%20Season&ShotClockRange=&StarterBench=&TeamID=0&TwoWay=0&VsConference=&VsDivision=\""
      ],
      "metadata": {
        "id": "oWZDXTh46lK-"
      },
      "execution_count": null,
      "outputs": []
    },
    {
      "cell_type": "code",
      "source": [
        "from nba_api.stats.endpoints import leaguedashteamstats\n",
        "\n",
        "request = leaguedashteamstats.LeagueDashTeamStats(last_n_games=5, per_mode_detailed='PerGame')\n",
        "foundStatistics = request.get_data_frames()[0]\n",
        "foundStatistics.head()"
      ],
      "metadata": {
        "id": "J2VkcUVA8nS1",
        "colab": {
          "base_uri": "https://localhost:8080/",
          "height": 342
        },
        "outputId": "62fc90b1-b666-4fd6-df45-12c82b61b145"
      },
      "execution_count": null,
      "outputs": [
        {
          "output_type": "execute_result",
          "data": {
            "text/plain": [
              "      TEAM_ID          TEAM_NAME  GP  W  L  W_PCT   MIN   FGM   FGA  FG_PCT  \\\n",
              "0  1610612737      Atlanta Hawks   5  0  5    0.0  50.0  40.8  92.2   0.443   \n",
              "1  1610612738     Boston Celtics   5  3  2    0.6  48.0  46.2  91.8   0.503   \n",
              "2  1610612751      Brooklyn Nets   5  2  3    0.4  48.0  35.8  82.0   0.437   \n",
              "3  1610612766  Charlotte Hornets   5  2  3    0.4  48.0  40.4  83.6   0.483   \n",
              "4  1610612741      Chicago Bulls   5  2  3    0.4  49.0  46.6  91.6   0.509   \n",
              "\n",
              "   ...  REB_RANK  AST_RANK  TOV_RANK  STL_RANK  BLK_RANK  BLKA_RANK  PF_RANK  \\\n",
              "0  ...        19         9        28        17        30         21       26   \n",
              "1  ...        15         5         2         4         2         13        2   \n",
              "2  ...         5        30        25        30         3         19        9   \n",
              "3  ...        30        16        20        14         9          1        9   \n",
              "4  ...        12        23         6         5        16          7       22   \n",
              "\n",
              "   PFD_RANK  PTS_RANK  PLUS_MINUS_RANK  \n",
              "0         3        20               30  \n",
              "1        30        10                6  \n",
              "2         7        29               24  \n",
              "3        15        21               26  \n",
              "4        16         9               16  \n",
              "\n",
              "[5 rows x 54 columns]"
            ],
            "text/html": [
              "\n",
              "  <div id=\"df-886a3ebf-617f-4493-a3c9-c01ec8161bfd\" class=\"colab-df-container\">\n",
              "    <div>\n",
              "<style scoped>\n",
              "    .dataframe tbody tr th:only-of-type {\n",
              "        vertical-align: middle;\n",
              "    }\n",
              "\n",
              "    .dataframe tbody tr th {\n",
              "        vertical-align: top;\n",
              "    }\n",
              "\n",
              "    .dataframe thead th {\n",
              "        text-align: right;\n",
              "    }\n",
              "</style>\n",
              "<table border=\"1\" class=\"dataframe\">\n",
              "  <thead>\n",
              "    <tr style=\"text-align: right;\">\n",
              "      <th></th>\n",
              "      <th>TEAM_ID</th>\n",
              "      <th>TEAM_NAME</th>\n",
              "      <th>GP</th>\n",
              "      <th>W</th>\n",
              "      <th>L</th>\n",
              "      <th>W_PCT</th>\n",
              "      <th>MIN</th>\n",
              "      <th>FGM</th>\n",
              "      <th>FGA</th>\n",
              "      <th>FG_PCT</th>\n",
              "      <th>...</th>\n",
              "      <th>REB_RANK</th>\n",
              "      <th>AST_RANK</th>\n",
              "      <th>TOV_RANK</th>\n",
              "      <th>STL_RANK</th>\n",
              "      <th>BLK_RANK</th>\n",
              "      <th>BLKA_RANK</th>\n",
              "      <th>PF_RANK</th>\n",
              "      <th>PFD_RANK</th>\n",
              "      <th>PTS_RANK</th>\n",
              "      <th>PLUS_MINUS_RANK</th>\n",
              "    </tr>\n",
              "  </thead>\n",
              "  <tbody>\n",
              "    <tr>\n",
              "      <th>0</th>\n",
              "      <td>1610612737</td>\n",
              "      <td>Atlanta Hawks</td>\n",
              "      <td>5</td>\n",
              "      <td>0</td>\n",
              "      <td>5</td>\n",
              "      <td>0.0</td>\n",
              "      <td>50.0</td>\n",
              "      <td>40.8</td>\n",
              "      <td>92.2</td>\n",
              "      <td>0.443</td>\n",
              "      <td>...</td>\n",
              "      <td>19</td>\n",
              "      <td>9</td>\n",
              "      <td>28</td>\n",
              "      <td>17</td>\n",
              "      <td>30</td>\n",
              "      <td>21</td>\n",
              "      <td>26</td>\n",
              "      <td>3</td>\n",
              "      <td>20</td>\n",
              "      <td>30</td>\n",
              "    </tr>\n",
              "    <tr>\n",
              "      <th>1</th>\n",
              "      <td>1610612738</td>\n",
              "      <td>Boston Celtics</td>\n",
              "      <td>5</td>\n",
              "      <td>3</td>\n",
              "      <td>2</td>\n",
              "      <td>0.6</td>\n",
              "      <td>48.0</td>\n",
              "      <td>46.2</td>\n",
              "      <td>91.8</td>\n",
              "      <td>0.503</td>\n",
              "      <td>...</td>\n",
              "      <td>15</td>\n",
              "      <td>5</td>\n",
              "      <td>2</td>\n",
              "      <td>4</td>\n",
              "      <td>2</td>\n",
              "      <td>13</td>\n",
              "      <td>2</td>\n",
              "      <td>30</td>\n",
              "      <td>10</td>\n",
              "      <td>6</td>\n",
              "    </tr>\n",
              "    <tr>\n",
              "      <th>2</th>\n",
              "      <td>1610612751</td>\n",
              "      <td>Brooklyn Nets</td>\n",
              "      <td>5</td>\n",
              "      <td>2</td>\n",
              "      <td>3</td>\n",
              "      <td>0.4</td>\n",
              "      <td>48.0</td>\n",
              "      <td>35.8</td>\n",
              "      <td>82.0</td>\n",
              "      <td>0.437</td>\n",
              "      <td>...</td>\n",
              "      <td>5</td>\n",
              "      <td>30</td>\n",
              "      <td>25</td>\n",
              "      <td>30</td>\n",
              "      <td>3</td>\n",
              "      <td>19</td>\n",
              "      <td>9</td>\n",
              "      <td>7</td>\n",
              "      <td>29</td>\n",
              "      <td>24</td>\n",
              "    </tr>\n",
              "    <tr>\n",
              "      <th>3</th>\n",
              "      <td>1610612766</td>\n",
              "      <td>Charlotte Hornets</td>\n",
              "      <td>5</td>\n",
              "      <td>2</td>\n",
              "      <td>3</td>\n",
              "      <td>0.4</td>\n",
              "      <td>48.0</td>\n",
              "      <td>40.4</td>\n",
              "      <td>83.6</td>\n",
              "      <td>0.483</td>\n",
              "      <td>...</td>\n",
              "      <td>30</td>\n",
              "      <td>16</td>\n",
              "      <td>20</td>\n",
              "      <td>14</td>\n",
              "      <td>9</td>\n",
              "      <td>1</td>\n",
              "      <td>9</td>\n",
              "      <td>15</td>\n",
              "      <td>21</td>\n",
              "      <td>26</td>\n",
              "    </tr>\n",
              "    <tr>\n",
              "      <th>4</th>\n",
              "      <td>1610612741</td>\n",
              "      <td>Chicago Bulls</td>\n",
              "      <td>5</td>\n",
              "      <td>2</td>\n",
              "      <td>3</td>\n",
              "      <td>0.4</td>\n",
              "      <td>49.0</td>\n",
              "      <td>46.6</td>\n",
              "      <td>91.6</td>\n",
              "      <td>0.509</td>\n",
              "      <td>...</td>\n",
              "      <td>12</td>\n",
              "      <td>23</td>\n",
              "      <td>6</td>\n",
              "      <td>5</td>\n",
              "      <td>16</td>\n",
              "      <td>7</td>\n",
              "      <td>22</td>\n",
              "      <td>16</td>\n",
              "      <td>9</td>\n",
              "      <td>16</td>\n",
              "    </tr>\n",
              "  </tbody>\n",
              "</table>\n",
              "<p>5 rows × 54 columns</p>\n",
              "</div>\n",
              "    <div class=\"colab-df-buttons\">\n",
              "\n",
              "  <div class=\"colab-df-container\">\n",
              "    <button class=\"colab-df-convert\" onclick=\"convertToInteractive('df-886a3ebf-617f-4493-a3c9-c01ec8161bfd')\"\n",
              "            title=\"Convert this dataframe to an interactive table.\"\n",
              "            style=\"display:none;\">\n",
              "\n",
              "  <svg xmlns=\"http://www.w3.org/2000/svg\" height=\"24px\" viewBox=\"0 -960 960 960\">\n",
              "    <path d=\"M120-120v-720h720v720H120Zm60-500h600v-160H180v160Zm220 220h160v-160H400v160Zm0 220h160v-160H400v160ZM180-400h160v-160H180v160Zm440 0h160v-160H620v160ZM180-180h160v-160H180v160Zm440 0h160v-160H620v160Z\"/>\n",
              "  </svg>\n",
              "    </button>\n",
              "\n",
              "  <style>\n",
              "    .colab-df-container {\n",
              "      display:flex;\n",
              "      gap: 12px;\n",
              "    }\n",
              "\n",
              "    .colab-df-convert {\n",
              "      background-color: #E8F0FE;\n",
              "      border: none;\n",
              "      border-radius: 50%;\n",
              "      cursor: pointer;\n",
              "      display: none;\n",
              "      fill: #1967D2;\n",
              "      height: 32px;\n",
              "      padding: 0 0 0 0;\n",
              "      width: 32px;\n",
              "    }\n",
              "\n",
              "    .colab-df-convert:hover {\n",
              "      background-color: #E2EBFA;\n",
              "      box-shadow: 0px 1px 2px rgba(60, 64, 67, 0.3), 0px 1px 3px 1px rgba(60, 64, 67, 0.15);\n",
              "      fill: #174EA6;\n",
              "    }\n",
              "\n",
              "    .colab-df-buttons div {\n",
              "      margin-bottom: 4px;\n",
              "    }\n",
              "\n",
              "    [theme=dark] .colab-df-convert {\n",
              "      background-color: #3B4455;\n",
              "      fill: #D2E3FC;\n",
              "    }\n",
              "\n",
              "    [theme=dark] .colab-df-convert:hover {\n",
              "      background-color: #434B5C;\n",
              "      box-shadow: 0px 1px 3px 1px rgba(0, 0, 0, 0.15);\n",
              "      filter: drop-shadow(0px 1px 2px rgba(0, 0, 0, 0.3));\n",
              "      fill: #FFFFFF;\n",
              "    }\n",
              "  </style>\n",
              "\n",
              "    <script>\n",
              "      const buttonEl =\n",
              "        document.querySelector('#df-886a3ebf-617f-4493-a3c9-c01ec8161bfd button.colab-df-convert');\n",
              "      buttonEl.style.display =\n",
              "        google.colab.kernel.accessAllowed ? 'block' : 'none';\n",
              "\n",
              "      async function convertToInteractive(key) {\n",
              "        const element = document.querySelector('#df-886a3ebf-617f-4493-a3c9-c01ec8161bfd');\n",
              "        const dataTable =\n",
              "          await google.colab.kernel.invokeFunction('convertToInteractive',\n",
              "                                                    [key], {});\n",
              "        if (!dataTable) return;\n",
              "\n",
              "        const docLinkHtml = 'Like what you see? Visit the ' +\n",
              "          '<a target=\"_blank\" href=https://colab.research.google.com/notebooks/data_table.ipynb>data table notebook</a>'\n",
              "          + ' to learn more about interactive tables.';\n",
              "        element.innerHTML = '';\n",
              "        dataTable['output_type'] = 'display_data';\n",
              "        await google.colab.output.renderOutput(dataTable, element);\n",
              "        const docLink = document.createElement('div');\n",
              "        docLink.innerHTML = docLinkHtml;\n",
              "        element.appendChild(docLink);\n",
              "      }\n",
              "    </script>\n",
              "  </div>\n",
              "\n",
              "\n",
              "<div id=\"df-0dc216ed-471b-440e-8b4e-d8dd90f75424\">\n",
              "  <button class=\"colab-df-quickchart\" onclick=\"quickchart('df-0dc216ed-471b-440e-8b4e-d8dd90f75424')\"\n",
              "            title=\"Suggest charts\"\n",
              "            style=\"display:none;\">\n",
              "\n",
              "<svg xmlns=\"http://www.w3.org/2000/svg\" height=\"24px\"viewBox=\"0 0 24 24\"\n",
              "     width=\"24px\">\n",
              "    <g>\n",
              "        <path d=\"M19 3H5c-1.1 0-2 .9-2 2v14c0 1.1.9 2 2 2h14c1.1 0 2-.9 2-2V5c0-1.1-.9-2-2-2zM9 17H7v-7h2v7zm4 0h-2V7h2v10zm4 0h-2v-4h2v4z\"/>\n",
              "    </g>\n",
              "</svg>\n",
              "  </button>\n",
              "\n",
              "<style>\n",
              "  .colab-df-quickchart {\n",
              "      --bg-color: #E8F0FE;\n",
              "      --fill-color: #1967D2;\n",
              "      --hover-bg-color: #E2EBFA;\n",
              "      --hover-fill-color: #174EA6;\n",
              "      --disabled-fill-color: #AAA;\n",
              "      --disabled-bg-color: #DDD;\n",
              "  }\n",
              "\n",
              "  [theme=dark] .colab-df-quickchart {\n",
              "      --bg-color: #3B4455;\n",
              "      --fill-color: #D2E3FC;\n",
              "      --hover-bg-color: #434B5C;\n",
              "      --hover-fill-color: #FFFFFF;\n",
              "      --disabled-bg-color: #3B4455;\n",
              "      --disabled-fill-color: #666;\n",
              "  }\n",
              "\n",
              "  .colab-df-quickchart {\n",
              "    background-color: var(--bg-color);\n",
              "    border: none;\n",
              "    border-radius: 50%;\n",
              "    cursor: pointer;\n",
              "    display: none;\n",
              "    fill: var(--fill-color);\n",
              "    height: 32px;\n",
              "    padding: 0;\n",
              "    width: 32px;\n",
              "  }\n",
              "\n",
              "  .colab-df-quickchart:hover {\n",
              "    background-color: var(--hover-bg-color);\n",
              "    box-shadow: 0 1px 2px rgba(60, 64, 67, 0.3), 0 1px 3px 1px rgba(60, 64, 67, 0.15);\n",
              "    fill: var(--button-hover-fill-color);\n",
              "  }\n",
              "\n",
              "  .colab-df-quickchart-complete:disabled,\n",
              "  .colab-df-quickchart-complete:disabled:hover {\n",
              "    background-color: var(--disabled-bg-color);\n",
              "    fill: var(--disabled-fill-color);\n",
              "    box-shadow: none;\n",
              "  }\n",
              "\n",
              "  .colab-df-spinner {\n",
              "    border: 2px solid var(--fill-color);\n",
              "    border-color: transparent;\n",
              "    border-bottom-color: var(--fill-color);\n",
              "    animation:\n",
              "      spin 1s steps(1) infinite;\n",
              "  }\n",
              "\n",
              "  @keyframes spin {\n",
              "    0% {\n",
              "      border-color: transparent;\n",
              "      border-bottom-color: var(--fill-color);\n",
              "      border-left-color: var(--fill-color);\n",
              "    }\n",
              "    20% {\n",
              "      border-color: transparent;\n",
              "      border-left-color: var(--fill-color);\n",
              "      border-top-color: var(--fill-color);\n",
              "    }\n",
              "    30% {\n",
              "      border-color: transparent;\n",
              "      border-left-color: var(--fill-color);\n",
              "      border-top-color: var(--fill-color);\n",
              "      border-right-color: var(--fill-color);\n",
              "    }\n",
              "    40% {\n",
              "      border-color: transparent;\n",
              "      border-right-color: var(--fill-color);\n",
              "      border-top-color: var(--fill-color);\n",
              "    }\n",
              "    60% {\n",
              "      border-color: transparent;\n",
              "      border-right-color: var(--fill-color);\n",
              "    }\n",
              "    80% {\n",
              "      border-color: transparent;\n",
              "      border-right-color: var(--fill-color);\n",
              "      border-bottom-color: var(--fill-color);\n",
              "    }\n",
              "    90% {\n",
              "      border-color: transparent;\n",
              "      border-bottom-color: var(--fill-color);\n",
              "    }\n",
              "  }\n",
              "</style>\n",
              "\n",
              "  <script>\n",
              "    async function quickchart(key) {\n",
              "      const quickchartButtonEl =\n",
              "        document.querySelector('#' + key + ' button');\n",
              "      quickchartButtonEl.disabled = true;  // To prevent multiple clicks.\n",
              "      quickchartButtonEl.classList.add('colab-df-spinner');\n",
              "      try {\n",
              "        const charts = await google.colab.kernel.invokeFunction(\n",
              "            'suggestCharts', [key], {});\n",
              "      } catch (error) {\n",
              "        console.error('Error during call to suggestCharts:', error);\n",
              "      }\n",
              "      quickchartButtonEl.classList.remove('colab-df-spinner');\n",
              "      quickchartButtonEl.classList.add('colab-df-quickchart-complete');\n",
              "    }\n",
              "    (() => {\n",
              "      let quickchartButtonEl =\n",
              "        document.querySelector('#df-0dc216ed-471b-440e-8b4e-d8dd90f75424 button');\n",
              "      quickchartButtonEl.style.display =\n",
              "        google.colab.kernel.accessAllowed ? 'block' : 'none';\n",
              "    })();\n",
              "  </script>\n",
              "</div>\n",
              "\n",
              "    </div>\n",
              "  </div>\n"
            ],
            "application/vnd.google.colaboratory.intrinsic+json": {
              "type": "dataframe",
              "variable_name": "foundStatistics"
            }
          },
          "metadata": {},
          "execution_count": 20
        }
      ]
    },
    {
      "cell_type": "markdown",
      "source": [
        "Once statistics have been gathered, obtain user input to find team specific statistics."
      ],
      "metadata": {
        "id": "tQVPRw3kogCI"
      }
    },
    {
      "cell_type": "code",
      "source": [
        "import ipywidgets as widgets\n",
        "from ipywidgets import Button\n",
        "from IPython.display import display"
      ],
      "metadata": {
        "id": "NenaUT9hQxG9"
      },
      "execution_count": null,
      "outputs": []
    },
    {
      "cell_type": "markdown",
      "source": [
        "Generate a function to scrape data and then make a prediction using the trained machine learning model."
      ],
      "metadata": {
        "id": "C6_XPAL9orKN"
      }
    },
    {
      "cell_type": "code",
      "source": [
        "def genPredictor():\n",
        "  homeName = homeTeam.value\n",
        "  awayName = awayTeam.value\n",
        "\n",
        "  if homeName == awayName:\n",
        "    print(\"Please select two distinct teams.\")\n",
        "    return 0\n",
        "\n",
        "  try:\n",
        "    selectedHomeRow = foundStatistics.loc[foundStatistics['TEAM_NAME'] == homeName]\n",
        "    selectedAwayRow = foundStatistics.loc[foundStatistics['TEAM_NAME'] == awayName]\n",
        "\n",
        "    homeID = selectedHomeRow['TEAM_ID'].values[0]\n",
        "    homePoints = selectedHomeRow['PTS'].values[0]\n",
        "    homeFGP = selectedHomeRow['FG_PCT'].values[0]\n",
        "    homeREB = selectedHomeRow['REB'].values[0]\n",
        "    homeFG3P = selectedHomeRow['FG3_PCT'].values[0]\n",
        "\n",
        "    awayID = selectedAwayRow['TEAM_ID'].values[0]\n",
        "    awayPoints = selectedAwayRow['PTS'].values[0]\n",
        "    awayFGP = selectedAwayRow['FG_PCT'].values[0]\n",
        "    awayREB = selectedAwayRow['REB'].values[0]\n",
        "    awayFG3P = selectedAwayRow['FG3_PCT'].values[0]\n",
        "\n",
        "    inputData = {\n",
        "        'HOME_TEAM_ID': [homeID],\n",
        "        'PTS_home_rolling': [homePoints],\n",
        "        'FG_PCT_home_rolling': [homeFGP],\n",
        "        'REB_home_rolling': [homeREB],\n",
        "        'FG3_PCT_home_rolling': [homeFG3P],\n",
        "\n",
        "        'TEAM_ID_away': [awayID],\n",
        "        'PTS_away_rolling': [awayPoints],\n",
        "        'FG_PCT_away_rolling': [awayFGP],\n",
        "        'REB_away_rolling': [awayREB],\n",
        "        'FG3_PCT_away_rolling': [awayFG3P]\n",
        "    }\n",
        "\n",
        "    inputDataFrame = pd.DataFrame(inputData)\n",
        "    prediction = rf.predict(inputDataFrame[predictors])\n",
        "    return prediction\n",
        "  except KeyError:\n",
        "    print(\"Error finding teams.\")\n"
      ],
      "metadata": {
        "id": "kXYo7a7b7Dbb"
      },
      "execution_count": null,
      "outputs": []
    },
    {
      "cell_type": "code",
      "source": [
        "options = [\"Atlanta Hawks\", \"Boston Celtics\", \"New Orleans Pelicans\", \"Chicago Bulls\", \"Dallas Mavericks\", \"Denver Nuggets\", \"Houston Rockets\", \"Los Angeles Clippers\", \"Los Angeles Lakers\", \"Miami Heat\", \"Milwaukee Bucks\", \"Minnesota Timberwolves\", \"Brooklyn Nets\", \"New York Knicks\", \"Orlando Magic\", \"Indiana Pacers\", \"Philadelphia 76ers\", \"Phoenix Suns\", \"Portland Trail Blazers\", \"Sacramento Kings\", \"San Antonio Spurs\", \"Oklahoma City Thunder\", \"Toronto Raptors\", \"Utah Jazz\", \"Memphis Grizzlies\", \"Washington Wizards\", \"Detroit Pistons\", \"Charlotte Hornets\", \"Cleveland Cavaliers\", \"Golden State Warriors\"]\n",
        "homeTeam = widgets.Dropdown(\n",
        "    options=options,\n",
        "    description=\"Home team: \"\n",
        ")\n",
        "\n",
        "awayTeam = widgets.Dropdown(\n",
        "    options=options,\n",
        "    description=\"Away team: \"\n",
        ")\n",
        "\n",
        "def on_button_click(button):\n",
        "  outcome = genPredictor()\n",
        "  if outcome == 1:\n",
        "    print(\"The \" + homeTeam.value + \" wins!\")\n",
        "  elif outcome == 0:\n",
        "    print(\"The \" + awayTeam.value + \" wins!\")\n",
        "\n",
        "test = Button(description = \"Predict the winner!\")\n",
        "test.on_click(on_button_click)"
      ],
      "metadata": {
        "id": "OKDsQuaP2PQ5"
      },
      "execution_count": null,
      "outputs": []
    },
    {
      "cell_type": "markdown",
      "source": [
        "# **Interactive section - calculate the average for any selected team!**"
      ],
      "metadata": {
        "id": "SswCMvgdOTMU"
      }
    },
    {
      "cell_type": "markdown",
      "source": [
        "Select the teams you want to simulate an outcome for and then predict the outcome!"
      ],
      "metadata": {
        "id": "FDBOGGYfjasb"
      }
    },
    {
      "cell_type": "code",
      "source": [
        "display(homeTeam)\n",
        "display(awayTeam)\n",
        "display(test)"
      ],
      "metadata": {
        "colab": {
          "base_uri": "https://localhost:8080/",
          "height": 111,
          "referenced_widgets": [
            "1196a58c1cdb476187e40348e64d3162",
            "ea22f7cdaf064e1c9e9976f968e85cd5",
            "5ef595ac30c843c4bec55a957ad1e4f9",
            "ca5f170f20b847c99708f335130092ce",
            "d50315edeaec42bc8a5f6a21821deca7",
            "3a91fe5062d24b099d5ba2f1722b61ec",
            "a600bf0f361b494192b1fd69f31c5193",
            "e274d72786de4ea7b773d52de1451513",
            "e19eae2ccf194799b5f6bfc43c697c89"
          ]
        },
        "id": "gWx7GvWxjIMj",
        "outputId": "fc004b7e-0bc8-4aab-d7b2-7ad99f1ae2b3"
      },
      "execution_count": null,
      "outputs": [
        {
          "output_type": "display_data",
          "data": {
            "text/plain": [
              "Dropdown(description='Home team: ', options=('Atlanta Hawks', 'Boston Celtics', 'New Orleans Pelicans', 'Chica…"
            ],
            "application/vnd.jupyter.widget-view+json": {
              "version_major": 2,
              "version_minor": 0,
              "model_id": "1196a58c1cdb476187e40348e64d3162"
            }
          },
          "metadata": {}
        },
        {
          "output_type": "display_data",
          "data": {
            "text/plain": [
              "Dropdown(description='Away team: ', options=('Atlanta Hawks', 'Boston Celtics', 'New Orleans Pelicans', 'Chica…"
            ],
            "application/vnd.jupyter.widget-view+json": {
              "version_major": 2,
              "version_minor": 0,
              "model_id": "ca5f170f20b847c99708f335130092ce"
            }
          },
          "metadata": {}
        },
        {
          "output_type": "display_data",
          "data": {
            "text/plain": [
              "Button(description='Predict the winner!', style=ButtonStyle())"
            ],
            "application/vnd.jupyter.widget-view+json": {
              "version_major": 2,
              "version_minor": 0,
              "model_id": "a600bf0f361b494192b1fd69f31c5193"
            }
          },
          "metadata": {}
        }
      ]
    }
  ]
}